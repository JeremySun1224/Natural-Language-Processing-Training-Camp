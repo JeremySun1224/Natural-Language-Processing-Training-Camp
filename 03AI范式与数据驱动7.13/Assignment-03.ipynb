{
 "cells": [
  {
   "cell_type": "markdown",
   "metadata": {},
   "source": [
    "# Review the online programming. "
   ]
  },
  {
   "cell_type": "markdown",
   "metadata": {},
   "source": [
    "- **已完成，见文件NLP_lesson03.ipynb。**"
   ]
  },
  {
   "cell_type": "markdown",
   "metadata": {},
   "source": [
    "# Change loss function"
   ]
  },
  {
   "cell_type": "markdown",
   "metadata": {},
   "source": [
    "- **Change loss function from $loss = \\frac{1}{n}\\sum{(y_i - \\hat{y_i})^2}$ $to$ $loss = \\frac{1}{n}\\sum{|y_i - \\hat{y_i}|}$, and using your mathmatical knowledge to get the right partial formual. Implemen the gradient descent code.**"
   ]
  },
  {
   "cell_type": "code",
   "execution_count": 9,
   "metadata": {
    "collapsed": true
   },
   "outputs": [],
   "source": [
    "from sklearn.datasets import load_boston\n",
    "import matplotlib.pyplot as plt\n",
    "import numpy as np"
   ]
  },
  {
   "cell_type": "code",
   "execution_count": 10,
   "metadata": {
    "collapsed": true
   },
   "outputs": [],
   "source": [
    "%matplotlib inline"
   ]
  },
  {
   "cell_type": "code",
   "execution_count": 11,
   "metadata": {
    "collapsed": true
   },
   "outputs": [],
   "source": [
    "data = load_boston()"
   ]
  },
  {
   "cell_type": "code",
   "execution_count": 12,
   "metadata": {
    "collapsed": true
   },
   "outputs": [],
   "source": [
    "X, y = data[\"data\"], data[\"target\"]"
   ]
  },
  {
   "cell_type": "code",
   "execution_count": 13,
   "metadata": {
    "collapsed": false
   },
   "outputs": [
    {
     "data": {
      "text/plain": [
       "((506, 13), (506,))"
      ]
     },
     "execution_count": 13,
     "metadata": {},
     "output_type": "execute_result"
    }
   ],
   "source": [
    "X.shape, y.shape"
   ]
  },
  {
   "cell_type": "code",
   "execution_count": 14,
   "metadata": {
    "collapsed": true
   },
   "outputs": [],
   "source": [
    "x = X[:, 5]  # 真的要好好学学numpy"
   ]
  },
  {
   "cell_type": "code",
   "execution_count": 15,
   "metadata": {
    "collapsed": false
   },
   "outputs": [
    {
     "data": {
      "text/plain": [
       "<matplotlib.collections.PathCollection at 0x199bd831a58>"
      ]
     },
     "execution_count": 15,
     "metadata": {},
     "output_type": "execute_result"
    },
    {
     "data": {
      "image/png": "[encoded data removed]",
      "text/plain": [
       "<Figure size 432x288 with 1 Axes>"
      ]
     },
     "metadata": {},
     "output_type": "display_data"
    }
   ],
   "source": [
    "plt.scatter(x, y)"
   ]
  },
  {
   "cell_type": "markdown",
   "metadata": {},
   "source": [
    "- mean_absolute_error $$loss=\\frac{1}{n}\\sum|y_i-\\hat{y_i}|$$"
   ]
  },
  {
   "cell_type": "code",
   "execution_count": 16,
   "metadata": {
    "collapsed": true
   },
   "outputs": [],
   "source": [
    "def mean_absolute_error(y, y_hat):\n",
    "    return np.abs(y - y_hat).sum() / y.size"
   ]
  },
  {
   "cell_type": "markdown",
   "metadata": {},
   "source": [
    "$$\\frac {\\partial loss}{\\partial k}=\n",
    "\\begin{cases}\n",
    "\\frac{1}{n}\\sum (-x_i), & y_i > \\hat{y_i} \\\\\n",
    "\\frac{1}{n}\\sum x_i, & y_i < \\hat{y_i}\n",
    "\\end{cases}\\\\$$"
   ]
  },
  {
   "cell_type": "markdown",
   "metadata": {},
   "source": [
    "$$ \\frac{\\partial loss}{\\partial k}=\\frac{1}{n}\\sum sign(\\hat{y_i}-y_i)x_i \\\\ $$"
   ]
  },
  {
   "cell_type": "markdown",
   "metadata": {},
   "source": [
    "$$ \\frac{\\partial loss}{\\partial b}=\\frac{1}{n}\\sum sign(\\hat{y_i}-y_i) $$"
   ]
  },
  {
   "cell_type": "code",
   "execution_count": 17,
   "metadata": {
    "collapsed": true
   },
   "outputs": [],
   "source": [
    "def get_y_hat(k, b, x):\n",
    "    return k * x + b"
   ]
  },
  {
   "cell_type": "code",
   "execution_count": 18,
   "metadata": {
    "collapsed": true
   },
   "outputs": [],
   "source": [
    "import numpy as np"
   ]
  },
  {
   "cell_type": "code",
   "execution_count": 19,
   "metadata": {
    "collapsed": false,
    "scrolled": true
   },
   "outputs": [],
   "source": [
    "def fit(x, y, it, lr):\n",
    "    current_k = current_b = np.random.random()\n",
    "    \n",
    "    for i in range(it):\n",
    "        \n",
    "        y_hat = get_y_hat(current_k, current_b, x)\n",
    "        loss = mean_absolute_error(y, y_hat)\n",
    "        \n",
    "        if (i+1) % 1000 == 0:\n",
    "            print(\"When iteration {it} times, current k is {k}, current b is {b} and the loss is {l}\".format(it=i, k=current_k, b=current_b, l=loss))\n",
    "        \n",
    "        y_diff_sign = np.sign(y_hat - y)  # sign(y_hat_i - y_i)\n",
    "        current_k -= lr * (y_diff_sign * x).sum() / y.size\n",
    "        current_b -= lr * y_diff_sign.sum() / y.size\n",
    "    \n",
    "    return current_k, current_b"
   ]
  },
  {
   "cell_type": "code",
   "execution_count": 20,
   "metadata": {
    "collapsed": false
   },
   "outputs": [
    {
     "name": "stdout",
     "output_type": "stream",
     "text": [
      "When iteration 999 times, current k is 4.065824774900624, current b is -3.4136062527673814 and the loss is 5.268675818538297\n",
      "When iteration 1999 times, current k is 4.7035733915014, current b is -7.326254474111355 and the loss is 5.111468520066772\n",
      "When iteration 2999 times, current k is 5.280796316402593, current b is -10.856293999802892 and the loss is 4.983489570081641\n",
      "When iteration 3999 times, current k is 5.815652047627973, current b is -14.086728782411663 and the loss is 4.876166162754859\n",
      "When iteration 4999 times, current k is 6.288033470552899, current b is -17.029416529447357 and the loss is 4.787299137372882\n",
      "When iteration 5999 times, current k is 6.7076737867583835, current b is -19.67052324881445 and the loss is 4.715740185596918\n",
      "When iteration 6999 times, current k is 7.134055209683376, current b is -22.228230758695315 and the loss is 4.648500389975386\n",
      "When iteration 7999 times, current k is 7.517154023912604, current b is -24.503724829841435 and the loss is 4.595200467206598\n",
      "When iteration 8999 times, current k is 7.836520031817622, current b is -26.49621494841866 and the loss is 4.554437746378099\n",
      "When iteration 9999 times, current k is 8.108750071343156, current b is -28.257084513636432 and the loss is 4.5227755003563415\n"
     ]
    }
   ],
   "source": [
    "best_k, best_b = fit(x, y, 10000, 0.1)"
   ]
  },
  {
   "cell_type": "code",
   "execution_count": 21,
   "metadata": {
    "collapsed": false
   },
   "outputs": [],
   "source": [
    "y_hat = get_y_hat(best_k, best_b, x)"
   ]
  },
  {
   "cell_type": "code",
   "execution_count": 22,
   "metadata": {
    "collapsed": false,
    "scrolled": true
   },
   "outputs": [
    {
     "data": {
      "text/plain": [
       "<matplotlib.collections.PathCollection at 0x199bd8765c0>"
      ]
     },
     "execution_count": 22,
     "metadata": {},
     "output_type": "execute_result"
    },
    {
     "data": {
      "image/png": "[encoded data removed]",
      "text/plain": [
       "<Figure size 432x288 with 1 Axes>"
      ]
     },
     "metadata": {},
     "output_type": "display_data"
    }
   ],
   "source": [
    "plt.plot(x, y_hat, color=\"r\")\n",
    "plt.scatter(x, y)"
   ]
  },
  {
   "cell_type": "code",
   "execution_count": 25,
   "metadata": {
    "collapsed": false
   },
   "outputs": [
    {
     "name": "stdout",
     "output_type": "stream",
     "text": [
      "When iteration 999 times, current k is 3.369131190093813, current b is 0.8522089667736056 and the loss is 5.458315659947807\n",
      "When iteration 999 times, current k is 3.963691814682205, current b is -2.8256234224719377 and the loss is 5.293141386603114\n",
      "When iteration 999 times, current k is 4.615435191009376, current b is -6.9737430698601495 and the loss is 5.129212592502063\n",
      "When iteration 999 times, current k is 6.169624085009271, current b is -8.983813662026249 and the loss is 8.613741491448062\n",
      "When iteration 999 times, current k is 3.3905459229139185, current b is 0.7294359525581272 and the loss is 5.452617707639501\n",
      "When iteration 1999 times, current k is 3.429497464415948, current b is 0.5042580869454648 and the loss is 5.442172964363242\n",
      "When iteration 999 times, current k is 3.9934845410644297, current b is -2.989405043915811 and the loss is 5.286306887491994\n",
      "When iteration 1999 times, current k is 4.571829521301663, current b is -6.548851684232005 and the loss is 5.141772168369521\n",
      "When iteration 999 times, current k is 4.613142226623693, current b is -6.996175164680619 and the loss is 5.130211212379086\n",
      "When iteration 1999 times, current k is 5.742958827414106, current b is -13.824633662704453 and the loss is 4.887753348170912\n",
      "When iteration 999 times, current k is 6.212531341140977, current b is -9.16070680115146 and the loss is 8.680236275604921\n",
      "When iteration 1999 times, current k is 7.220543198848507, current b is -15.29509415293014 and the loss is 8.686113608292997\n",
      "When iteration 999 times, current k is 3.3369031639585227, current b is 1.036354695579129 and the loss is 5.466863546340865\n",
      "When iteration 1999 times, current k is 3.376307610598908, current b is 0.8111570671206346 and the loss is 5.456410018521536\n",
      "When iteration 2999 times, current k is 3.4157120572392934, current b is 0.5859594386621224 and the loss is 5.44595679733592\n",
      "When iteration 3999 times, current k is 3.4530058121799936, current b is 0.36084086158700945 and the loss is 5.435543046310431\n",
      "When iteration 999 times, current k is 3.941820142799693, current b is -2.6686921299275688 and the loss is 5.2996840610373654\n",
      "When iteration 1999 times, current k is 4.522289549914415, current b is -6.245213869058018 and the loss is 5.153730295179912\n",
      "When iteration 2999 times, current k is 5.067396071653395, current b is -9.530036003445149 and the loss is 5.030381823738698\n",
      "When iteration 3999 times, current k is 5.566225874024863, current b is -12.576518216883747 and the loss is 4.924560748781486\n",
      "When iteration 999 times, current k is 4.63784874138505, current b is -7.121303432527959 and the loss is 5.124036550564355\n",
      "When iteration 1999 times, current k is 5.805720678143842, current b is -13.920512918694097 and the loss is 4.883790517574353\n",
      "When iteration 2999 times, current k is 6.688574433084501, current b is -19.543437819879983 and the loss is 4.719105407255562\n",
      "When iteration 3999 times, current k is 7.500590243361106, current b is -24.39877378825984 and the loss is 4.597413941223211\n",
      "When iteration 999 times, current k is 6.15900575066153, current b is -8.901637529970825 and the loss is 8.627836320874984\n",
      "When iteration 1999 times, current k is 7.185859505602261, current b is -15.103218557638815 and the loss is 8.669208971040948\n",
      "When iteration 2999 times, current k is 7.889792311926467, current b is -19.484641482540376 and the loss is 8.619864322007007\n",
      "When iteration 3999 times, current k is 8.436179663705317, current b is -23.034048597164784 and the loss is 8.469210393282822\n",
      "When iteration 999 times, current k is 3.344972633859864, current b is 0.9901154500654268 and the loss is 5.464717248104737\n",
      "When iteration 1999 times, current k is 3.3843770805002493, current b is 0.7649178216069146 and the loss is 5.454264036588971\n",
      "When iteration 2999 times, current k is 3.423716863109014, current b is 0.5397201931484024 and the loss is 5.443811911454497\n",
      "When iteration 3999 times, current k is 3.460533463899495, current b is 0.3146213789191392 and the loss is 5.433406501678727\n",
      "When iteration 4999 times, current k is 3.4972290765476837, current b is 0.08950280184403533 and the loss is 5.42300220802537\n",
      "When iteration 999 times, current k is 4.0039378473889, current b is -3.044912488579486 and the loss is 5.283988035456412\n",
      "When iteration 1999 times, current k is 4.580527649760519, current b is -6.601513279093309 and the loss is 5.139704876490263\n",
      "When iteration 2999 times, current k is 5.122139112210951, current b is -9.852185215851954 and the loss is 5.018898957158667\n",
      "When iteration 3999 times, current k is 5.613815871104178, current b is -12.87092039371746 and the loss is 4.914897504543981\n",
      "When iteration 4999 times, current k is 6.057241958060771, current b is -15.597600235614582 and the loss is 4.830064918744639\n",
      "When iteration 999 times, current k is 4.629408564175526, current b is -7.095324637405457 and the loss is 5.126335865840583\n",
      "When iteration 1999 times, current k is 5.800811726230756, current b is -13.896905665073557 and the loss is 4.884283036752249\n",
      "When iteration 2999 times, current k is 6.683996706467856, current b is -19.5229926215954 and the loss is 4.71966020986665\n",
      "When iteration 3999 times, current k is 7.497533465361062, current b is -24.38070013147723 and the loss is 4.597805299348015\n",
      "When iteration 4999 times, current k is 8.074467852712804, current b is -28.15619420262373 and the loss is 4.525275691131678\n",
      "When iteration 999 times, current k is 6.173140250370658, current b is -8.969694729866434 and the loss is 8.64191006003684\n",
      "When iteration 1999 times, current k is 7.178326021121677, current b is -15.157441765439557 and the loss is 8.586307093750314\n",
      "When iteration 2999 times, current k is 7.895918906497265, current b is -19.52700698283124 and the loss is 8.616011133016126\n",
      "When iteration 3999 times, current k is 8.42708293811801, current b is -23.062580105360784 and the loss is 8.398807241247543\n",
      "When iteration 4999 times, current k is 8.843039459857408, current b is -25.453884453185818 and the loss is 8.552457300167797\n"
     ]
    },
    {
     "data": {
      "image/png": "[encoded data removed]",
      "text/plain": [
       "<Figure size 1008x720 with 16 Axes>"
      ]
     },
     "metadata": {},
     "output_type": "display_data"
    }
   ],
   "source": [
    "params =[(it, lr) for it in [1000, 2000, 4000, 5000] for lr in [0.005, 0.09, 0.2, 0.5]]\n",
    "fig, axes = plt.subplots(4, 4, figsize=(14, 10))\n",
    "for axe, (it, lr) in zip(axes.flatten(), params):\n",
    "    k, b = fit(x, y, it=it, lr=lr)\n",
    "    y_hat = get_y_hat(k, b, x)\n",
    "    loss = mean_absolute_error(y, y_hat)\n",
    "    \n",
    "    title = \"it={it}, lr={lr}, loss={loss:.3f}\".format(it=it, lr=lr, loss=loss)\n",
    "    axe.set_title(title)\n",
    "    axe.scatter(x, y)\n",
    "    axe.plot(x, y_hat, color=\"red\")\n",
    "fig.tight_layout()    "
   ]
  },
  {
   "cell_type": "markdown",
   "metadata": {},
   "source": [
    "# Finish the Solution Parse Part of Edit-Distance"
   ]
  },
  {
   "cell_type": "markdown",
   "metadata": {},
   "source": [
    "- **编辑距离是针对两个字符串（例如英文字）的差异程度的量化量测，量测方式是看至少需要多少次的处理才能将一个字符串变成另一个字符串。**编辑距离可以用在自然语言处理中，例如拼写检查可以根据一个拼错的字和其他正确的字的编辑距离，判断哪一个（或哪几个）是比较可能的字。"
   ]
  },
  {
   "cell_type": "markdown",
   "metadata": {},
   "source": [
    "- 给定2个字符串a, b。编辑距离是将a转换为b的最少操作次数，操作只允许如下3种：\n",
    "    - 插入一个字符，例如：fj -> fxj\n",
    "    - 删除一个字符，例如：fxj -> fj\n",
    "    - 替换一个字符，例如：jxj -> fyj"
   ]
  },
  {
   "cell_type": "code",
   "execution_count": 3,
   "metadata": {
    "collapsed": true
   },
   "outputs": [],
   "source": [
    "from typing import Tuple, List\n",
    "from functools import lru_cache"
   ]
  },
  {
   "cell_type": "code",
   "execution_count": 4,
   "metadata": {
    "collapsed": true
   },
   "outputs": [],
   "source": [
    "def edit_distance(str1: str, str2: str) -> int:\n",
    "    \"\"\"Self-thinking\"\"\"\n",
    "    distance = float('inf')\n",
    "    @lru_cache(maxsize=2**10)\n",
    "    def helper(str1, str2, dist):\n",
    "        nonlocal distance\n",
    "        if not str1 and not str2:\n",
    "            distance = min(dist, distance)\n",
    "            return\n",
    "        if not str1:\n",
    "            distance = min(dist+len(str2), distance)\n",
    "            return \n",
    "        if not str2:\n",
    "            distance = min(dist+len(str1), distance)\n",
    "            return\n",
    "        if str1[0] == str2[0]:\n",
    "            helper(str1[1:], str2[1:], dist)\n",
    "        else:\n",
    "            helper(str1, str2[1:], dist+1) # 删除 str2 中的第一个字母\n",
    "            helper(str1[1:], str2[1:], dist+1) # 替换 str2 的第一个字母为 str1 的第一个字母\n",
    "            helper(str1[1:], str2, dist+1) # 将 str1 的第一个字母插入到 str2 的第一个位置\n",
    "    helper(str1, str2, 0)\n",
    "    return distance"
   ]
  },
  {
   "cell_type": "code",
   "execution_count": 5,
   "metadata": {
    "collapsed": false
   },
   "outputs": [
    {
     "data": {
      "text/plain": [
       "2"
      ]
     },
     "execution_count": 5,
     "metadata": {},
     "output_type": "execute_result"
    }
   ],
   "source": [
    "str1 = 'ago'\n",
    "str2 = 'got'\n",
    "edit_distance(str1, str2)"
   ]
  },
  {
   "cell_type": "code",
   "execution_count": 6,
   "metadata": {
    "collapsed": true
   },
   "outputs": [],
   "source": [
    "# 记录最佳转换路径\n",
    "def edit_distance(str1: str, str2: str) -> Tuple[int, str]:\n",
    "    \"\"\"Self-thinking\"\"\"\n",
    "    distance = float('inf')\n",
    "    best_route = ''\n",
    "    def helper(str1: str, str2: str, dist: int, tmp: List[str]) -> None:\n",
    "        nonlocal distance, best_route\n",
    "        if not str1 and not str2:\n",
    "            if dist < distance:\n",
    "                distance = dist\n",
    "                best_route = '->'.join(tmp)\n",
    "            return\n",
    "        if not str1:\n",
    "            if dist + len(str2) < distance:\n",
    "                distance = dist + len(str2)\n",
    "                best_route = '->'.join(tmp+[str2 + ' ' + str2])\n",
    "            return \n",
    "        if not str2:\n",
    "            if dist + len(str1) < distance:\n",
    "                distance = dist + len(str1)\n",
    "                best_route = '->'.join(tmp+[str1 + ' ' + str1])\n",
    "            return\n",
    "        if str1[0] == str2[0]:\n",
    "            helper(str1[1:], str2[1:], dist, tmp+[str1+' '+str2])\n",
    "        else:\n",
    "            helper(str1, str2[1:], dist+1, tmp+[str1+' '+str2]) # 删除 str2 中的第一个字母\n",
    "            helper(str1[1:], str2[1:], dist+1, tmp+[str1+' '+str2]) # 替换 str2 的第一个字母为 str1 的第一个字母\n",
    "            helper(str1[1:], str2, dist+1, tmp+[str1+' '+str2]) # 将 str1 的第一个字母插入到 str2 的第一个位置\n",
    "    helper(str1, str2, 0, [])\n",
    "    return distance, best_route"
   ]
  },
  {
   "cell_type": "code",
   "execution_count": 7,
   "metadata": {
    "collapsed": false,
    "scrolled": true
   },
   "outputs": [
    {
     "data": {
      "text/plain": [
       "(2, 'ago got->go got->o ot->t t')"
      ]
     },
     "execution_count": 7,
     "metadata": {},
     "output_type": "execute_result"
    }
   ],
   "source": [
    "str1 = 'ago'\n",
    "str2 = 'got'\n",
    "edit_distance(str1, str2)"
   ]
  },
  {
   "cell_type": "markdown",
   "metadata": {},
   "source": [
    "- **老师的做法**"
   ]
  },
  {
   "cell_type": "code",
   "execution_count": 8,
   "metadata": {
    "collapsed": true
   },
   "outputs": [],
   "source": [
    "def edit_distance(string1: str, string2:str) -> int:\n",
    "    solutions = {}\n",
    "    @lru_cache(maxsize=2**10)\n",
    "    def helper(string1: str, string2:str) -> int:\n",
    "        if len(string1) == 0: \n",
    "            solutions[(string1, string2)] = 'ADD ' + string2\n",
    "            return len(string2)\n",
    "        if len(string2) == 0: \n",
    "            solutions[(string1, string2)] = 'DEL ' + string1\n",
    "            return len(string1)\n",
    "\n",
    "        tail_s1 = string1[-1]\n",
    "        tail_s2 = string2[-1]\n",
    "\n",
    "        candidates = [\n",
    "            (helper(string1[:-1], string2) + 1, 'DEL {}'.format(tail_s1)), # 删除 s1 的尾字母\n",
    "            (helper(string1, string2[:-1]) + 1, 'ADD {}'.format(tail_s2)), # 添加 s2 的尾字母到 s1 的尾部\n",
    "        ]\n",
    "\n",
    "        if tail_s1 == tail_s2:\n",
    "            both_forward = (helper(string1[:-1], string2[:-1]), '')\n",
    "        else:\n",
    "            both_forward = (helper(string1[:-1], string2[:-1])+1, 'SUB {} => {}'.format(tail_s1, tail_s2))\n",
    "\n",
    "        candidates.append(both_forward)\n",
    "\n",
    "        min_distance, operation = min(candidates)\n",
    "\n",
    "        solutions[(string1, string2)] = operation\n",
    "\n",
    "        return min_distance\n",
    "    return helper(string1, string2), solutions"
   ]
  },
  {
   "cell_type": "code",
   "execution_count": 9,
   "metadata": {
    "collapsed": true
   },
   "outputs": [],
   "source": [
    "string1 = 'ago'\n",
    "string2 = 'got'\n",
    "distance, solutions = edit_distance(string1, string2)"
   ]
  },
  {
   "cell_type": "code",
   "execution_count": 10,
   "metadata": {
    "collapsed": false
   },
   "outputs": [
    {
     "data": {
      "text/plain": [
       "{('', ''): 'ADD ',\n",
       " ('', 'g'): 'ADD g',\n",
       " ('', 'go'): 'ADD go',\n",
       " ('', 'got'): 'ADD got',\n",
       " ('a', ''): 'DEL a',\n",
       " ('a', 'g'): 'SUB a => g',\n",
       " ('a', 'go'): 'ADD o',\n",
       " ('a', 'got'): 'ADD t',\n",
       " ('ag', ''): 'DEL ag',\n",
       " ('ag', 'g'): '',\n",
       " ('ag', 'go'): 'ADD o',\n",
       " ('ag', 'got'): 'ADD t',\n",
       " ('ago', ''): 'DEL ago',\n",
       " ('ago', 'g'): 'DEL o',\n",
       " ('ago', 'go'): '',\n",
       " ('ago', 'got'): 'ADD t'}"
      ]
     },
     "execution_count": 10,
     "metadata": {},
     "output_type": "execute_result"
    }
   ],
   "source": [
    "solutions"
   ]
  },
  {
   "cell_type": "code",
   "execution_count": 11,
   "metadata": {
    "collapsed": true
   },
   "outputs": [],
   "source": [
    "def parse_solutions(solutions: dict, string1: str, string2: str) -> str:\n",
    "    route = []\n",
    "    def helper(solutions: dict, string1: str, string2: str) -> None:\n",
    "        if not string1 and not string2: return\n",
    "        operation = solutions[(string1, string2)]\n",
    "        route.append('{k}: {v}'.format(k=(string1, string2), v=operation))\n",
    "        if operation.startswith('SUB') or operation == '':\n",
    "            helper(solutions, string1[:-1], string2[:-1])\n",
    "        elif operation.startswith('ADD'):\n",
    "            helper(solutions, string1, string2[:-1])\n",
    "        elif operation.startswith('DEL'):\n",
    "            helper(solutions, string1[:-1], string2)\n",
    "    helper(solutions, string1, string2)\n",
    "    return '->'.join(route)"
   ]
  },
  {
   "cell_type": "code",
   "execution_count": 12,
   "metadata": {
    "collapsed": false
   },
   "outputs": [
    {
     "data": {
      "text/plain": [
       "\"('ago', 'got'): ADD t->('ago', 'go'): ->('ag', 'g'): ->('a', ''): DEL a\""
      ]
     },
     "execution_count": 12,
     "metadata": {},
     "output_type": "execute_result"
    }
   ],
   "source": [
    "parse_solutions(solutions, string1, string2)"
   ]
  },
  {
   "cell_type": "code",
   "execution_count": 13,
   "metadata": {
    "collapsed": false,
    "scrolled": true
   },
   "outputs": [
    {
     "data": {
      "text/plain": [
       "(3,\n",
       " {('', ''): 'ADD ',\n",
       "  ('', 'b'): 'ADD b',\n",
       "  ('', 'bi'): 'ADD bi',\n",
       "  ('', 'bie'): 'ADD bie',\n",
       "  ('', 'biej'): 'ADD biej',\n",
       "  ('', 'bieji'): 'ADD bieji',\n",
       "  ('', 'biejin'): 'ADD biejin',\n",
       "  ('b', ''): 'DEL b',\n",
       "  ('b', 'b'): '',\n",
       "  ('b', 'bi'): 'ADD i',\n",
       "  ('b', 'bie'): 'ADD e',\n",
       "  ('b', 'biej'): 'ADD j',\n",
       "  ('b', 'bieji'): 'ADD i',\n",
       "  ('b', 'biejin'): 'ADD n',\n",
       "  ('be', ''): 'DEL be',\n",
       "  ('be', 'b'): 'DEL e',\n",
       "  ('be', 'bi'): 'SUB e => i',\n",
       "  ('be', 'bie'): '',\n",
       "  ('be', 'biej'): 'ADD j',\n",
       "  ('be', 'bieji'): 'ADD i',\n",
       "  ('be', 'biejin'): 'ADD n',\n",
       "  ('bei', ''): 'DEL bei',\n",
       "  ('bei', 'b'): 'DEL i',\n",
       "  ('bei', 'bi'): '',\n",
       "  ('bei', 'bie'): 'ADD e',\n",
       "  ('bei', 'biej'): 'SUB i => j',\n",
       "  ('bei', 'bieji'): '',\n",
       "  ('bei', 'biejin'): 'ADD n',\n",
       "  ('beij', ''): 'DEL beij',\n",
       "  ('beij', 'b'): 'DEL j',\n",
       "  ('beij', 'bi'): 'DEL j',\n",
       "  ('beij', 'bie'): 'SUB j => e',\n",
       "  ('beij', 'biej'): '',\n",
       "  ('beij', 'bieji'): 'ADD i',\n",
       "  ('beij', 'biejin'): 'SUB j => n',\n",
       "  ('beiji', ''): 'DEL beiji',\n",
       "  ('beiji', 'b'): 'DEL i',\n",
       "  ('beiji', 'bi'): '',\n",
       "  ('beiji', 'bie'): 'DEL i',\n",
       "  ('beiji', 'biej'): 'DEL i',\n",
       "  ('beiji', 'bieji'): '',\n",
       "  ('beiji', 'biejin'): 'ADD n',\n",
       "  ('beijin', ''): 'DEL beijin',\n",
       "  ('beijin', 'b'): 'DEL n',\n",
       "  ('beijin', 'bi'): 'DEL n',\n",
       "  ('beijin', 'bie'): 'DEL n',\n",
       "  ('beijin', 'biej'): 'DEL n',\n",
       "  ('beijin', 'bieji'): 'DEL n',\n",
       "  ('beijin', 'biejin'): '',\n",
       "  ('beijing', ''): 'DEL beijing',\n",
       "  ('beijing', 'b'): 'DEL g',\n",
       "  ('beijing', 'bi'): 'DEL g',\n",
       "  ('beijing', 'bie'): 'DEL g',\n",
       "  ('beijing', 'biej'): 'DEL g',\n",
       "  ('beijing', 'bieji'): 'DEL g',\n",
       "  ('beijing', 'biejin'): 'DEL g'})"
      ]
     },
     "execution_count": 13,
     "metadata": {},
     "output_type": "execute_result"
    }
   ],
   "source": [
    "string1 = 'beijing'\n",
    "string2 = 'biejin'\n",
    "dist, solutions = edit_distance(string1, string2)\n",
    "dist, solutions"
   ]
  },
  {
   "cell_type": "code",
   "execution_count": 14,
   "metadata": {
    "collapsed": false
   },
   "outputs": [
    {
     "data": {
      "text/plain": [
       "\"('beijing', 'biejin'): DEL g->('beijin', 'biejin'): ->('beiji', 'bieji'): ->('beij', 'biej'): ->('bei', 'bie'): ADD e->('bei', 'bi'): ->('be', 'b'): DEL e->('b', 'b'): \""
      ]
     },
     "execution_count": 14,
     "metadata": {},
     "output_type": "execute_result"
    }
   ],
   "source": [
    "parse_solutions(solutions, string1, string2)"
   ]
  },
  {
   "cell_type": "markdown",
   "metadata": {},
   "source": [
    "# Choose 1 - 2 books to keep reading: \n",
    "\n",
    "+ SICP, Structure and Interpretation of Computer Programming. \n",
    "+ Introduction to Algorithms \n",
    "+ Artificial Intelligence A Modern Approach (3rd Edition) \n",
    "+ Code Complete 2 \n",
    "+ Programming Pearls \n",
    "+ Deep Learning\n",
    "+ 黑客与画家\n",
    "+ 数学之美\n",
    "+ Fluent Python\n",
    "+ Hands on Tensorflow\n",
    "+ Conference: NIPS_ ICML_ ICLR_ ACL_ AAAI\n",
    "\n",
    "> Most books you may find in [our github](https://github.com/Computing-Intelligence/References)"
   ]
  },
  {
   "cell_type": "markdown",
   "metadata": {},
   "source": [
    "## Review machine learning"
   ]
  },
  {
   "cell_type": "markdown",
   "metadata": {},
   "source": [
    "### Why do we use Derivative / Gredient to fit a target function?¶"
   ]
  },
  {
   "cell_type": "markdown",
   "metadata": {},
   "source": [
    "- 因为日度指明了目标函数的增长方向，这也就指明了目标函数朝哪个方向下降最快。我们的参数通过梯度更新，每一步都在减小目标函数的值，这正是我们希望看到的。"
   ]
  },
  {
   "cell_type": "markdown",
   "metadata": {},
   "source": [
    "### In the words 'Gredient Descent', what's the Gredient and what's the Descent?¶"
   ]
  },
  {
   "cell_type": "markdown",
   "metadata": {},
   "source": [
    "- “梯度”是指目标函数的单数即目标函数增长最快的方向；“下降”指的是参数通过负梯度更新，达到以目标函数减小最快的方向更新参数的目的。"
   ]
  },
  {
   "cell_type": "markdown",
   "metadata": {},
   "source": [
    "### What's the advantages of the 3rd gradient descent method compared to the previous methods?"
   ]
  },
  {
   "cell_type": "markdown",
   "metadata": {},
   "source": [
    "- 第一种方法没有方向，需要大量的资源才能得到合适的k和b。第二种方法有方向，但并不总是正确的。此外，第三种方法，有明确的方向和有效的前进。"
   ]
  },
  {
   "cell_type": "markdown",
   "metadata": {},
   "source": [
    "### Using the simple words to describe: What's the machine leanring.¶"
   ]
  },
  {
   "cell_type": "markdown",
   "metadata": {},
   "source": [
    "- 输入数据对和学习方法以及输出数据对之间的映射关系。"
   ]
  },
  {
   "cell_type": "markdown",
   "metadata": {},
   "source": [
    "## Answer following questions: "
   ]
  },
  {
   "cell_type": "markdown",
   "metadata": {},
   "source": [
    "### Why do we need dynamic programming? What's the difference of dynamic programming and previous talked search problme? "
   ]
  },
  {
   "cell_type": "markdown",
   "metadata": {},
   "source": [
    "- 动态规划一般用于解决多阶段最优化决策问题，它充分利用了这类问题的几个特点，最优子结构、重复子问题和无后效性；如果不利用这些特征进行暴力搜索，算法复杂度会特别高，效率低下；利用好这几点的动态规划大大减少了计算重复。前面所讲的搜索问题每一步的选择会对后面的选择产生影响，并且如果要在全局上拿到最优解则没有所谓的最优子结构，是在暴力搜索的基础上进行了一定的剪枝。[参考链接](https://www.zhihu.com/question/23995189/answer/613096905)"
   ]
  },
  {
   "cell_type": "markdown",
   "metadata": {},
   "source": [
    "### Why do we still need dynamic programming? Why not we train a machine learning to fit a function which could get the right answer based on inputs?"
   ]
  },
  {
   "cell_type": "markdown",
   "metadata": {},
   "source": [
    "- 同一个动态规划问题不同的输入和输出之间不具有一个通用的映射关系。"
   ]
  },
  {
   "cell_type": "markdown",
   "metadata": {},
   "source": [
    "### Can you catch up at least 3 problems which could solved by Dynamic Programming? "
   ]
  },
  {
   "cell_type": "markdown",
   "metadata": {},
   "source": [
    "- 最短路径问题、分词问题、编辑距离。"
   ]
  },
  {
   "cell_type": "markdown",
   "metadata": {},
   "source": [
    "### Can you catch up at least 3 problems wich could sloved by Edit Distance? "
   ]
  },
  {
   "cell_type": "markdown",
   "metadata": {},
   "source": [
    "- 语音识别、拼写纠错、评估机器翻译"
   ]
  },
  {
   "cell_type": "markdown",
   "metadata": {},
   "source": [
    "### Please summarize the three main features of Dynamic Programming, and make a concise explain for each feature. "
   ]
  },
  {
   "cell_type": "markdown",
   "metadata": {},
   "source": [
    "- 最优子结构：问题的最优解可由当前阶段的最优解推得；\n",
    "- 无后效性：在推导后面阶段的状态的时候，只关心前面阶段的状态值，并不关心这个状态怎么来的；某阶段状态一旦确定则不受之后决策阶段的影响；\n",
    "- 重复子问题：不同的搜索序列中间会存在重复的状态。"
   ]
  },
  {
   "cell_type": "markdown",
   "metadata": {},
   "source": [
    "### What's the disadvantages of Dynamic Programming? (You may need search by yourself in Internet)"
   ]
  },
  {
   "cell_type": "markdown",
   "metadata": {},
   "source": [
    "- 没有统一标准的模型，不同的问题不同的解法，只是一类思想；当数据维度较高时，空间复杂度可能会很高。"
   ]
  },
  {
   "cell_type": "markdown",
   "metadata": {},
   "source": [
    "# Preparation of Project-01"
   ]
  },
  {
   "cell_type": "markdown",
   "metadata": {},
   "source": [
    "## Using python Flask or Bottle to finish your first simple web app:"
   ]
  },
  {
   "cell_type": "markdown",
   "metadata": {},
   "source": [
    "> https://bottlepy.org/"
   ]
  },
  {
   "cell_type": "markdown",
   "metadata": {},
   "source": [
    "## Learn what's the SQL, and try some simple SQL operations:"
   ]
  },
  {
   "cell_type": "markdown",
   "metadata": {},
   "source": [
    "> https://www.w3schools.com/sql/sql_intro.asp"
   ]
  },
  {
   "cell_type": "markdown",
   "metadata": {},
   "source": [
    "## Learn what's the HTML ( *ONLY* need to know the basic things)"
   ]
  },
  {
   "cell_type": "markdown",
   "metadata": {},
   "source": [
    "> https://getbootstrap.com/; https://www.w3schools.com/html/"
   ]
  },
  {
   "cell_type": "markdown",
   "metadata": {},
   "source": [
    "# (Optinal) Finish the k-person-salesman problem"
   ]
  },
  {
   "cell_type": "markdown",
   "metadata": {},
   "source": [
    "- **旅行商问题(Traveling Salesman Problem, TSP)**是旅行商要到若干个城市旅行，各城市之间的费用是已知的，为了节省费用，旅行商决定从所在城市出发，到每个城市旅行一次后返回初始城市，问他应选择什么样的路线才能使所走的总费用最短？"
   ]
  },
  {
   "cell_type": "code",
   "execution_count": 18,
   "metadata": {
    "collapsed": true
   },
   "outputs": [],
   "source": [
    "import random\n",
    "import matplotlib.pylab as plt"
   ]
  },
  {
   "cell_type": "code",
   "execution_count": 23,
   "metadata": {
    "collapsed": true
   },
   "outputs": [],
   "source": [
    "%matplotlib inline"
   ]
  },
  {
   "cell_type": "code",
   "execution_count": 19,
   "metadata": {
    "collapsed": false
   },
   "outputs": [
    {
     "data": {
      "text/plain": [
       "(20, (-53, 96))"
      ]
     },
     "execution_count": 19,
     "metadata": {},
     "output_type": "execute_result"
    }
   ],
   "source": [
    "latitudes = [random.randint(-100, 100) for _ in range(20)]\n",
    "longitudes = [random.randint(-100, 100) for _ in range(20)]\n",
    "coordinate = list(zip(latitudes,longitudes)) #给出坐标\n",
    "len(latitudes),coordinate[0]"
   ]
  },
  {
   "cell_type": "code",
   "execution_count": 24,
   "metadata": {
    "collapsed": false
   },
   "outputs": [
    {
     "data": {
      "image/png": "[encoded data removed]",
      "text/plain": [
       "<Figure size 432x288 with 1 Axes>"
      ]
     },
     "metadata": {},
     "output_type": "display_data"
    }
   ],
   "source": [
    "fig, ax = plt.subplots()\n",
    "\n",
    "ax.scatter(latitudes, longitudes)\n",
    "\n",
    "for i in range(len(longitudes)):\n",
    "    ax.annotate(i, (latitudes[i], longitudes[i]))"
   ]
  },
  {
   "cell_type": "code",
   "execution_count": 21,
   "metadata": {
    "collapsed": true
   },
   "outputs": [],
   "source": [
    "from typing import List, Tuple\n",
    "from copy import deepcopy\n",
    "import numpy as np\n",
    "\n",
    "def get_distance(x: tuple, y: tuple) -> float:\n",
    "    return np.sqrt((x[0]-y[0])**2 + (x[-1]-y[-1])**2)\n",
    "def tsp(coordinates: List[Tuple[int, int]], start: int=0) -> np.float64:\n",
    "    length = len(coordinates)\n",
    "    all_distances = {frozenset([i, j]): get_distance(coordinates[i], coordinates[j]) for i in range(length) for j in range(i+1, length)}\n",
    "    opt = [[[i], i, all_distances[frozenset([start, i])]] for i in range(length) if i != start]\n",
    "    while len(opt[0][0]) < length-1:\n",
    "        opt_n = []\n",
    "        for j in range(length):\n",
    "            if j == start: continue\n",
    "            tmp = [None, j, float('inf')]\n",
    "            for visited, cur, dist in opt:\n",
    "                if j in visited: continue\n",
    "                tmp_dist = all_distances[frozenset([cur, j])]\n",
    "                if tmp_dist + dist < tmp[-1]:\n",
    "                    tmp[0] = visited + [j]\n",
    "                    tmp[-1] = tmp_dist + dist\n",
    "            if tmp[0]: opt_n.append(deepcopy(tmp))\n",
    "        opt = opt_n\n",
    "    min_distance = float('inf')\n",
    "    route = None\n",
    "    for visited, cur, dist in opt:\n",
    "        tmp_dist = all_distances[frozenset([cur, start])] + dist\n",
    "        if tmp_dist < min_distance:\n",
    "            min_distance = tmp_dist\n",
    "            route = visited\n",
    "    return min_distance, route"
   ]
  },
  {
   "cell_type": "code",
   "execution_count": 22,
   "metadata": {
    "collapsed": false
   },
   "outputs": [
    {
     "data": {
      "text/plain": [
       "(847.7739042637943,\n",
       " [10, 7, 19, 11, 13, 14, 2, 9, 16, 3, 17, 18, 8, 5, 6, 4, 1, 15, 12])"
      ]
     },
     "execution_count": 22,
     "metadata": {},
     "output_type": "execute_result"
    }
   ],
   "source": [
    "tsp(coordinate)"
   ]
  },
  {
   "cell_type": "code",
   "execution_count": 25,
   "metadata": {
    "collapsed": true
   },
   "outputs": [],
   "source": [
    "def tsp(coordinates: List[Tuple[int, int]]) -> np.float64:\n",
    "    tsp.solutions = {}\n",
    "    length = len(coordinates)\n",
    "    dp = [[float('inf')] * 2**(length-1) for _ in range(length)]\n",
    "    # 计算所有城市两两之间的距离\n",
    "    all_distances = {frozenset([i, j]): get_distance(coordinates[i], coordinates[j]) for i in range(length) for j in range(i+1, length)}\n",
    "    for i in range(length):\n",
    "        if i == 0: continue\n",
    "        dp[i][0] = all_distances[frozenset([i, 0])]\n",
    "    for j in range(1, len(dp[0])):\n",
    "        for i in range(length):\n",
    "            if i != 0 and (j >> (i - 1)) & 1 == 1: # 出发的城市在要经过的城市里，不合常理\n",
    "                continue\n",
    "            tsp.solutions[(i, j)] = (None, None)\n",
    "            for k in range(1, length):\n",
    "                if (j >> (k - 1)) & 1 == 0: continue # 不经过该城市则查看下一个城市\n",
    "                tmp_dist = all_distances[frozenset([i, k])] + dp[k][j ^ (1 << (k - 1))]\n",
    "                if dp[i][j] > tmp_dist:\n",
    "                    dp[i][j] = tmp_dist\n",
    "                    tsp.solutions[(i, j)] = (k, j ^ (1 << (k - 1)))\n",
    "    return dp[0][-1]"
   ]
  },
  {
   "cell_type": "code",
   "execution_count": 26,
   "metadata": {
    "collapsed": false
   },
   "outputs": [
    {
     "data": {
      "text/plain": [
       "788.1119500567335"
      ]
     },
     "execution_count": 26,
     "metadata": {},
     "output_type": "execute_result"
    }
   ],
   "source": [
    "tsp(coordinate)"
   ]
  },
  {
   "cell_type": "code",
   "execution_count": 27,
   "metadata": {
    "collapsed": true
   },
   "outputs": [],
   "source": [
    "def parse_solutions(length: int, solutions: dict) -> str:\n",
    "    route = ['0']\n",
    "    def helper(row: int, col: int) -> None:\n",
    "        i, j = solutions[(row, col)]\n",
    "        route.append(str(i))\n",
    "        if j == 0: return\n",
    "        helper(i, j)\n",
    "    helper(0, 2**(length-1)-1)\n",
    "    route.append('0')\n",
    "    return route\n",
    "\n",
    "def pretty_print(route: List[str]) -> str:\n",
    "    print('->'.join(route))"
   ]
  },
  {
   "cell_type": "code",
   "execution_count": 28,
   "metadata": {
    "collapsed": false
   },
   "outputs": [
    {
     "name": "stdout",
     "output_type": "stream",
     "text": [
      "0->10->13->14->2->9->16->3->17->8->5->18->6->4->15->12->1->11->19->7->0\n"
     ]
    }
   ],
   "source": [
    "pretty_print(parse_solutions(len(coordinate), tsp.solutions))"
   ]
  },
  {
   "cell_type": "markdown",
   "metadata": {},
   "source": [
    "- **加油**"
   ]
  }
 ],
 "metadata": {
  "anaconda-cloud": {},
  "kernelspec": {
   "display_name": "Python [default]",
   "language": "python",
   "name": "python3"
  },
  "language_info": {
   "codemirror_mode": {
    "name": "ipython",
    "version": 3
   },
   "file_extension": ".py",
   "mimetype": "text/x-python",
   "name": "python",
   "nbconvert_exporter": "python",
   "pygments_lexer": "ipython3",
   "version": "3.5.6"
  },
  "toc": {
   "base_numbering": 1,
   "nav_menu": {},
   "number_sections": true,
   "sideBar": true,
   "skip_h1_title": false,
   "title_cell": "Table of Contents",
   "title_sidebar": "Contents",
   "toc_cell": false,
   "toc_position": {},
   "toc_section_display": true,
   "toc_window_display": false
  }
 },
 "nbformat": 4,
 "nbformat_minor": 2
}
