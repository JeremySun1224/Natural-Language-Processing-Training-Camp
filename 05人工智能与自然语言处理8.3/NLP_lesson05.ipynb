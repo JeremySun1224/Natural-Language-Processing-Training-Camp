{
 "cells": [
  {
   "cell_type": "markdown",
   "metadata": {},
   "source": [
    "<img src=\"Preview.png\", width=600, height=600>"
   ]
  },
  {
   "cell_type": "markdown",
   "metadata": {},
   "source": [
    "# NER"
   ]
  },
  {
   "cell_type": "markdown",
   "metadata": {},
   "source": [
    "- NER即命名实体识别。比如一段新闻里面有很多名字，NER就是把里面的名字取出来，如人名、地名、组织机构名等，这些都能识别出来。目前NER领域的方法现在比较流行的是深度学习。"
   ]
  },
  {
   "cell_type": "code",
   "execution_count": 1,
   "metadata": {
    "collapsed": false
   },
   "outputs": [],
   "source": [
    "import jieba\n",
    "import os"
   ]
  },
  {
   "cell_type": "code",
   "execution_count": 2,
   "metadata": {
    "collapsed": true
   },
   "outputs": [],
   "source": [
    "from jieba import posseg  # 标注词性"
   ]
  },
  {
   "cell_type": "markdown",
   "metadata": {},
   "source": [
    "- 这里posseg具体意思为：\n",
    "    - pos -> part of speech(判断名词，动词等，也就是判断某句话里各部分在句中担任什么成分，可以说是词性的判断)\n",
    "    - sge -> segment"
   ]
  },
  {
   "cell_type": "code",
   "execution_count": 3,
   "metadata": {
    "collapsed": true
   },
   "outputs": [],
   "source": [
    "# 截选谷歌新闻的一段\n",
    "text = \"\"\"\n",
    "新华社北京8月26日电\n",
    "中共中央总书记、国家主席、中央军委主席、中央财经委员会主任习近平8月26日下午主持召开中央财经委员会第五次会议，\n",
    "研究推动形成优势互补高质量发展的区域经济布局问题、提升产业基础能力和产业链水平问题。\n",
    "\"\"\""
   ]
  },
  {
   "cell_type": "code",
   "execution_count": 4,
   "metadata": {
    "collapsed": false,
    "scrolled": true
   },
   "outputs": [
    {
     "name": "stderr",
     "output_type": "stream",
     "text": [
      "Building prefix dict from the default dictionary ...\n"
     ]
    },
    {
     "name": "stdout",
     "output_type": "stream",
     "text": [
      "\n",
      "/x\n"
     ]
    },
    {
     "name": "stderr",
     "output_type": "stream",
     "text": [
      "Dumping model to file cache C:\\Users\\JEREMY~1\\AppData\\Local\\Temp\\jieba.cache\n",
      "Loading model cost 1.097 seconds.\n",
      "Prefix dict has been built succesfully.\n"
     ]
    },
    {
     "name": "stdout",
     "output_type": "stream",
     "text": [
      "新华社/nt\n",
      "北京/ns\n",
      "8/m\n",
      "月/m\n",
      "26/m\n",
      "日电/j\n",
      "\n",
      "/x\n",
      "中共中央/nt\n",
      "总书记/n\n",
      "、/x\n",
      "国家/n\n",
      "主席/n\n",
      "、/x\n",
      "中央军委/nt\n",
      "主席/n\n",
      "、/x\n",
      "中央/n\n",
      "财经委员会/nt\n",
      "主任/b\n",
      "习近平/nrfg\n",
      "8/m\n",
      "月/m\n",
      "26/m\n",
      "日/m\n",
      "下午/t\n",
      "主持/v\n",
      "召开/v\n",
      "中央/n\n",
      "财经委员会/nt\n",
      "第五次/m\n",
      "会议/n\n",
      "，/x\n",
      "\n",
      "/x\n",
      "研究/vn\n",
      "推动/v\n",
      "形成/v\n",
      "优势互补/i\n",
      "高质量/n\n",
      "发展/vn\n",
      "的/uj\n",
      "区域/n\n",
      "经济布局/n\n",
      "问题/n\n",
      "、/x\n",
      "提升/v\n",
      "产业/n\n",
      "基础/n\n",
      "能力/n\n",
      "和/c\n",
      "产业链/n\n",
      "水平/n\n",
      "问题/n\n",
      "。/x\n",
      "\n",
      "/x\n"
     ]
    }
   ],
   "source": [
    "for word in posseg.cut(text):\n",
    "    print(word)"
   ]
  },
  {
   "cell_type": "markdown",
   "metadata": {},
   "source": [
    "- **这应该是最简单的一种NER的方式，准确率大概在百分之八十几。哈工大的pyltp和斯坦福大学的CoreNLP也可以进行此类操作。目前而言用jieba比较快捷高效。**"
   ]
  },
  {
   "cell_type": "markdown",
   "metadata": {},
   "source": [
    "# Dependency Parsing"
   ]
  },
  {
   "cell_type": "markdown",
   "metadata": {},
   "source": [
    "- Dependency Parsing，依存分析，这一块非常复杂。比如“我今天迟了一块饼。”这个“饼”是因为有“吃”这个词的存在才存在的。**每一个词都是因为另外某一个词的存在而存在的，这就是单词之间的依存关系。**如果我们能把依存关系识别出来，我们就能把“...说...”的前后内容识别出来。"
   ]
  },
  {
   "cell_type": "markdown",
   "metadata": {},
   "source": [
    "- 目前能识别出这种关系的模块有两个：哈工大的pyltp；斯坦福大学 Dependency Parsing。"
   ]
  },
  {
   "cell_type": "markdown",
   "metadata": {},
   "source": [
    "<img src=\"Dependency.png\", width=600, height=600>"
   ]
  },
  {
   "cell_type": "markdown",
   "metadata": {},
   "source": [
    "# Previous Remain"
   ]
  },
  {
   "cell_type": "markdown",
   "metadata": {},
   "source": [
    "## How to get related words by Word2Vec ?"
   ]
  },
  {
   "cell_type": "markdown",
   "metadata": {},
   "source": [
    "<img src=\"A.png\", width=500, height=500>"
   ]
  },
  {
   "cell_type": "markdown",
   "metadata": {},
   "source": [
    "- 基于词向量和图搜索建立一个新的模型。假设有一个单词$A$，我们找到了它的相似单词$A1，A2，A3和A4$，然后我们又接着$A1，A2，A3和A4$又找到了它的相似单词$A11，A12，A13，A14$，依次扩展。如果这其中有一个单词同时在几层中都出现过，那么久可以说明这个单词很有可能就是和$A$的依存关系是比较紧密的，可以判断为其与$A$意思是相同的。**那么这个问题该怎么解决呢？**"
   ]
  },
  {
   "cell_type": "markdown",
   "metadata": {},
   "source": [
    "### Define a function. Input is a word, Output is some words."
   ]
  },
  {
   "cell_type": "code",
   "execution_count": 2,
   "metadata": {
    "collapsed": false
   },
   "outputs": [],
   "source": [
    "os.chdir(r'C:\\Users\\JeremySun\\Desktop\\NLPCamp\\datasource')"
   ]
  },
  {
   "cell_type": "code",
   "execution_count": 6,
   "metadata": {
    "collapsed": false,
    "scrolled": true
   },
   "outputs": [
    {
     "name": "stdout",
     "output_type": "stream",
     "text": [
      " 驱动器 C 中的卷是 Windows\n",
      " 卷的序列号是 727B-20F1\n",
      "\n",
      " C:\\Users\\JeremySun\\Desktop\\NLPCamp\\datasource 的目录\n",
      "\n",
      "19/09/28  16:23    <DIR>          .\n",
      "19/09/28  16:23    <DIR>          ..\n",
      "19/02/05  08:32    <DIR>          ai_challenger_sentiment_analysis_testa_20180816\n",
      "19/02/05  08:32    <DIR>          ai_challenger_sentiment_analysis_trainingset_20180816\n",
      "19/02/05  08:32    <DIR>          ai_challenger_sentiment_analysis_validationset_20180816\n",
      "19/07/12  08:29        64,368,892 article_9k.txt\n",
      "19/09/28  16:27       112,925,184 article_9k_cut.txt\n",
      "19/07/11  11:38        64,189,670 articles.txt\n",
      "19/02/05  08:35             3,089 chinese_stopwords.txt\n",
      "19/08/11  11:19        22,988,081 cut_comment.txt\n",
      "19/07/15  16:00            19,609 cut_comment1.txt\n",
      "19/07/11  00:36       138,403,414 datasource-master.zip\n",
      "19/02/05  08:35        46,833,745 movie_comments.csv\n",
      "19/02/05  08:35               162 readme.md\n",
      "19/02/05  08:35        23,613,536 SourceHanSerifSC-Regular.otf\n",
      "17/12/03  12:09       160,966,723 sqlResult_1558435.csv\n",
      "              11 个文件    634,312,105 字节\n",
      "               5 个目录 112,268,292,096 可用字节\n"
     ]
    }
   ],
   "source": [
    "%ls"
   ]
  },
  {
   "cell_type": "code",
   "execution_count": 7,
   "metadata": {
    "collapsed": false
   },
   "outputs": [],
   "source": [
    "cut_file = open(\"article_9k_cut.txt\", \"w\", encoding=\"utf-8\")  # 新建一个article_9k_cut.txt的文档"
   ]
  },
  {
   "cell_type": "code",
   "execution_count": 8,
   "metadata": {
    "collapsed": true
   },
   "outputs": [],
   "source": [
    "def cut(string):\n",
    "    return \" \".join(jieba.cut(string))"
   ]
  },
  {
   "cell_type": "code",
   "execution_count": 9,
   "metadata": {
    "collapsed": true
   },
   "outputs": [],
   "source": [
    "line_number = 5000"
   ]
  },
  {
   "cell_type": "code",
   "execution_count": 10,
   "metadata": {
    "collapsed": false
   },
   "outputs": [
    {
     "name": "stdout",
     "output_type": "stream",
     "text": [
      "0\n",
      "10000\n",
      "20000\n",
      "30000\n",
      "40000\n",
      "50000\n",
      "60000\n",
      "70000\n",
      "80000\n"
     ]
    }
   ],
   "source": [
    "for i, line in enumerate(open(\"article_9k.txt\")):\n",
    "    if i % 10000 == 0:\n",
    "        print(i)\n",
    "    cut_file.write(cut(line) + \"\\n\")  # 存入新建的文本文件"
   ]
  },
  {
   "cell_type": "code",
   "execution_count": 11,
   "metadata": {
    "collapsed": false
   },
   "outputs": [],
   "source": [
    "from gensim.models import Word2Vec"
   ]
  },
  {
   "cell_type": "code",
   "execution_count": 12,
   "metadata": {
    "collapsed": true
   },
   "outputs": [],
   "source": [
    "from gensim.models.word2vec import LineSentence  # 进行行构建"
   ]
  },
  {
   "cell_type": "code",
   "execution_count": 13,
   "metadata": {
    "collapsed": false
   },
   "outputs": [],
   "source": [
    "new_word2vec = Word2Vec(LineSentence(\"article_9k_cut.txt\"), size=35, workers=8)"
   ]
  },
  {
   "cell_type": "code",
   "execution_count": 14,
   "metadata": {
    "collapsed": false
   },
   "outputs": [
    {
     "data": {
      "text/plain": [
       "<gensim.models.word2vec.Word2Vec at 0x22894dd26d8>"
      ]
     },
     "execution_count": 14,
     "metadata": {},
     "output_type": "execute_result"
    }
   ],
   "source": [
    "new_word2vec"
   ]
  },
  {
   "cell_type": "markdown",
   "metadata": {},
   "source": [
    "# TF-IDF"
   ]
  },
  {
   "cell_type": "markdown",
   "metadata": {},
   "source": [
    "- 上一节课我们提到了词向量，它是用来把一个单词表示成一个数字，这样就可以进行计算了。除了词向量之外呢，我们还有一种方法来表征文字，这就是**TF-IDF**。它是用来对每个单词的重要性来做一个评价，衡量一个单词的重要性。它的原理非常简单，但是很好用，在文本检索，文档的相似度排序等都会用到这个。**一方面，某个单词在文章中出现的次数越多肯定越重要；另外一方面，在某个句子整体里出现的次数越少越重要。换句话说，如果一个单词在每一篇文章中出现的次数都很多，这个单词就很有可能类似于像“的”，“了”之类的词。**[很好的参考资料](http://www.ruanyifeng.com/blog/2013/03/tf-idf.html)"
   ]
  },
  {
   "cell_type": "markdown",
   "metadata": {},
   "source": [
    "<img src=\"TFIDF.png\", width=600, height=600>"
   ]
  },
  {
   "cell_type": "markdown",
   "metadata": {},
   "source": [
    "- **TF(Term-Frequency)**，词频，表示一个单词在文本中的概率。**DF(Documents Frequency)**，表示一个单词出现在了多少个文本中。**IDF(Inverse Documents Frequency)，逆文档频率，就是把DF的计算结果反过来。**加一个log的原因是单词的重要性不会像线性变化那么大。最后把它们乘起来。"
   ]
  },
  {
   "cell_type": "markdown",
   "metadata": {},
   "source": [
    "- **换句话说就是，对于一个单词来说，它越常见，它的重要性就越低。然后如果它在文中出现的频率越大，那么它的重要性就越高。**"
   ]
  },
  {
   "cell_type": "markdown",
   "metadata": {},
   "source": [
    "<img src=\"first.png\", width=500, height=500>"
   ]
  },
  {
   "cell_type": "markdown",
   "metadata": {},
   "source": [
    "- 这些其实都是一种向量空间表示的方法，把文本表示成向量，是自然语言处理处理的第一步。"
   ]
  },
  {
   "cell_type": "markdown",
   "metadata": {},
   "source": [
    "<img src=\"policy.png\", width=500, height=500>"
   ]
  },
  {
   "cell_type": "markdown",
   "metadata": {},
   "source": [
    "- **计算机程序=数据结构+算法**。 数据结构就是为了能够更好的表征文本，比如词向量就是一种数据结构，这样的数据结构更方便使用算法。"
   ]
  },
  {
   "cell_type": "markdown",
   "metadata": {},
   "source": [
    "- 如果现在有两个文本，我们怎么来观察这两个文本的相似程度呢？上一节课我们主要说了词向量，但是词向量某种程度上是更多的是在单词层级上来说的，就是说它可以很好的衡量单词之间的相似性，但是求文本相似度就不太合适了。其实把文本转化成向量至今也没有什么很好的方法，尤其是当文章比较短的时候。经典的方法就是把文档变成TF-IDF向量。"
   ]
  },
  {
   "cell_type": "markdown",
   "metadata": {},
   "source": [
    "- 假设某篇"
   ]
  },
  {
   "cell_type": "markdown",
   "metadata": {},
   "source": [
    "# Cosine Distance"
   ]
  },
  {
   "cell_type": "markdown",
   "metadata": {
    "collapsed": true
   },
   "source": [
    "<img src=\"cos.png\", width=500, height=500>"
   ]
  },
  {
   "cell_type": "markdown",
   "metadata": {},
   "source": [
    "- 如果我们要判断文本的相似度，那么这里有一种方法，叫做**cos距离**。如果我们已经求出文本的TF-IDF值，其实最简单的方法就是把这两个文本的向量做点积。越相似点积的结果越大。但是如果我们把其中一篇文章的复制粘贴给自己，那么就会导致这篇文章尤其是TF值会变大。那么向量的长度就相差很大，为了解决这个问题，我们需要进行归一化。既是**sim(d1,d2)**。刚好我们发现这个结果就时两个向量的夹角。"
   ]
  },
  {
   "cell_type": "markdown",
   "metadata": {},
   "source": [
    "<img src=\"cos2.png\", width=500, height=500>"
   ]
  },
  {
   "cell_type": "markdown",
   "metadata": {},
   "source": [
    "**问题：为什么要用cos距离（向量的夹角距离）来计算文本的相似度呢？如果我们现在有文本A，B，C，如果A和B的夹角更小，A和C的欧氏距离更小，空间距离更短，那么哪个更接近呢？**"
   ]
  },
  {
   "cell_type": "markdown",
   "metadata": {},
   "source": [
    "- 答：因为我们在求点积之前，我们需要进行归一化。**巧合的是**，归一化之后我们再乘起来发现正好是余弦值，所以我们就用余弦值来计算文本相似度了。"
   ]
  },
  {
   "cell_type": "markdown",
   "metadata": {},
   "source": [
    "- ***"
   ]
  },
  {
   "cell_type": "markdown",
   "metadata": {},
   "source": [
    "# Search Tree to Similar Words"
   ]
  },
  {
   "cell_type": "markdown",
   "metadata": {},
   "source": [
    "- **More Data，Better Results**"
   ]
  },
  {
   "cell_type": "markdown",
   "metadata": {},
   "source": [
    "- 数据量越多效果越好。比如把维基百科加进来，那么同义词的效果就会好很多。"
   ]
  },
  {
   "cell_type": "code",
   "execution_count": 3,
   "metadata": {
    "collapsed": true
   },
   "outputs": [],
   "source": [
    "csv_path = \"C:/Users/JeremySun/Desktop/NLPCamp/datasource/sqlResult_1558435.csv\""
   ]
  },
  {
   "cell_type": "code",
   "execution_count": 4,
   "metadata": {
    "collapsed": true
   },
   "outputs": [],
   "source": [
    "import pandas as pd"
   ]
  },
  {
   "cell_type": "code",
   "execution_count": 5,
   "metadata": {
    "collapsed": false
   },
   "outputs": [],
   "source": [
    "content = pd.read_csv(csv_path, encoding=\"gb18030\")"
   ]
  },
  {
   "cell_type": "code",
   "execution_count": 6,
   "metadata": {
    "collapsed": false
   },
   "outputs": [
    {
     "data": {
      "text/html": [
       "<div>\n",
       "<table border=\"1\" class=\"dataframe\">\n",
       "  <thead>\n",
       "    <tr style=\"text-align: right;\">\n",
       "      <th></th>\n",
       "      <th>id</th>\n",
       "      <th>author</th>\n",
       "      <th>source</th>\n",
       "      <th>content</th>\n",
       "      <th>feature</th>\n",
       "      <th>title</th>\n",
       "      <th>url</th>\n",
       "    </tr>\n",
       "  </thead>\n",
       "  <tbody>\n",
       "    <tr>\n",
       "      <th>0</th>\n",
       "      <td>89617</td>\n",
       "      <td>NaN</td>\n",
       "      <td>快科技@http://www.kkj.cn/</td>\n",
       "      <td>此外，自本周（6月12日）起，除小米手机6等15款机型外，其余机型已暂停更新发布（含开发版/...</td>\n",
       "      <td>{\"type\":\"科技\",\"site\":\"cnbeta\",\"commentNum\":\"37\"...</td>\n",
       "      <td>小米MIUI 9首批机型曝光：共计15款</td>\n",
       "      <td>http://www.cnbeta.com/articles/tech/623597.htm</td>\n",
       "    </tr>\n",
       "  </tbody>\n",
       "</table>\n",
       "</div>"
      ],
      "text/plain": [
       "      id author                  source  \\\n",
       "0  89617    NaN  快科技@http://www.kkj.cn/   \n",
       "\n",
       "                                             content  \\\n",
       "0  此外，自本周（6月12日）起，除小米手机6等15款机型外，其余机型已暂停更新发布（含开发版/...   \n",
       "\n",
       "                                             feature                 title  \\\n",
       "0  {\"type\":\"科技\",\"site\":\"cnbeta\",\"commentNum\":\"37\"...  小米MIUI 9首批机型曝光：共计15款   \n",
       "\n",
       "                                              url  \n",
       "0  http://www.cnbeta.com/articles/tech/623597.htm  "
      ]
     },
     "execution_count": 6,
     "metadata": {},
     "output_type": "execute_result"
    }
   ],
   "source": [
    "content.head(1)"
   ]
  },
  {
   "cell_type": "code",
   "execution_count": 7,
   "metadata": {
    "collapsed": true
   },
   "outputs": [],
   "source": [
    "content = content.fillna(\"\")  # fillna() can replace all NaN elements with \"\"."
   ]
  },
  {
   "cell_type": "code",
   "execution_count": 8,
   "metadata": {
    "collapsed": true
   },
   "outputs": [],
   "source": [
    "news_content = content[\"content\"].tolist()  # tolist()将数组或矩阵转化为列表"
   ]
  },
  {
   "cell_type": "code",
   "execution_count": 9,
   "metadata": {
    "collapsed": false
   },
   "outputs": [
    {
     "data": {
      "text/plain": [
       "'骁龙835作为唯一通过Windows 10桌面平台认证的ARM处理器，高通强调，不会因为只考虑性能而去屏蔽掉小核心。相反，他们正联手微软，找到一种适合桌面平台的、兼顾性能和功耗的完美方案。\\r\\n报道称，微软已经拿到了一些新的源码，以便Windows 10更好地理解big.little架构。\\r\\n资料显示，骁龙835作为一款集成了CPU、GPU、基带、蓝牙/Wi-Fi的SoC，比传统的Wintel方案可以节省至少30%的PCB空间。\\r\\n按计划，今年Q4，华硕、惠普、联想将首发骁龙835 Win10电脑，预计均是二合一形态的产品。\\r\\n当然，高通骁龙只是个开始，未来也许还能见到三星Exynos、联发科、华为麒麟、小米澎湃等进入Windows 10桌面平台。\\r\\n'"
      ]
     },
     "execution_count": 9,
     "metadata": {},
     "output_type": "execute_result"
    }
   ],
   "source": [
    "news_content[1]"
   ]
  },
  {
   "cell_type": "code",
   "execution_count": 10,
   "metadata": {
    "collapsed": false
   },
   "outputs": [],
   "source": [
    "import jieba"
   ]
  },
  {
   "cell_type": "code",
   "execution_count": 11,
   "metadata": {
    "collapsed": true
   },
   "outputs": [],
   "source": [
    "def cut(string):\n",
    "    return \" \".join(jieba.cut(string))"
   ]
  },
  {
   "cell_type": "code",
   "execution_count": 12,
   "metadata": {
    "collapsed": false
   },
   "outputs": [
    {
     "name": "stderr",
     "output_type": "stream",
     "text": [
      "Building prefix dict from the default dictionary ...\n",
      "Loading model from cache C:\\Users\\JEREMY~1\\AppData\\Local\\Temp\\jieba.cache\n",
      "Loading model cost 0.801 seconds.\n",
      "Prefix dict has been built succesfully.\n"
     ]
    },
    {
     "data": {
      "text/plain": [
       "'我来 测试 一下 ， 感觉 还 可以'"
      ]
     },
     "execution_count": 12,
     "metadata": {},
     "output_type": "execute_result"
    }
   ],
   "source": [
    "cut(\"我来测试一下，感觉还可以\")"
   ]
  },
  {
   "cell_type": "code",
   "execution_count": 13,
   "metadata": {
    "collapsed": true
   },
   "outputs": [],
   "source": [
    "import re"
   ]
  },
  {
   "cell_type": "code",
   "execution_count": 14,
   "metadata": {
    "collapsed": true
   },
   "outputs": [],
   "source": [
    "def token(string):\n",
    "    return \"\".join(re.findall(pattern=r'[\\d|\\w+]', string=string))  # findall()只保留数字和文字"
   ]
  },
  {
   "cell_type": "code",
   "execution_count": 15,
   "metadata": {
    "collapsed": true
   },
   "outputs": [],
   "source": [
    "test = \"此外，自本周（6月12日）起，除iphone8手机等15款机型外，其余机型已暂停更新发布\""
   ]
  },
  {
   "cell_type": "code",
   "execution_count": 16,
   "metadata": {
    "collapsed": false
   },
   "outputs": [
    {
     "data": {
      "text/plain": [
       "'此外自本周6月12日起除iphone8手机等15款机型外其余机型已暂停更新发布'"
      ]
     },
     "execution_count": 16,
     "metadata": {},
     "output_type": "execute_result"
    }
   ],
   "source": [
    "token(test)"
   ]
  },
  {
   "cell_type": "code",
   "execution_count": 17,
   "metadata": {
    "collapsed": true
   },
   "outputs": [],
   "source": [
    "news_content = [token(i) for i in news_content]"
   ]
  },
  {
   "cell_type": "code",
   "execution_count": 18,
   "metadata": {
    "collapsed": false
   },
   "outputs": [],
   "source": [
    "news_content = [\"\".join(i) for i in news_content]  # 连接成一个列表"
   ]
  },
  {
   "cell_type": "code",
   "execution_count": 19,
   "metadata": {
    "collapsed": false
   },
   "outputs": [
    {
     "data": {
      "text/plain": [
       "['此外自本周6月12日起除小米手机6等15款机型外其余机型已暂停更新发布含开发版体验版内测稳定版暂不受影响以确保工程师可以集中全部精力进行系统优化工作有人猜测这也是将精力主要用到MIUI9的研发之中MIUI8去年5月发布距今已有一年有余也是时候更新换代了当然关于MIUI9的确切信息我们还是等待官方消息',\n",
       " '骁龙835作为唯一通过Windows10桌面平台认证的ARM处理器高通强调不会因为只考虑性能而去屏蔽掉小核心相反他们正联手微软找到一种适合桌面平台的兼顾性能和功耗的完美方案报道称微软已经拿到了一些新的源码以便Windows10更好地理解biglittle架构资料显示骁龙835作为一款集成了CPUGPU基带蓝牙WiFi的SoC比传统的Wintel方案可以节省至少30的PCB空间按计划今年Q4华硕惠普联想将首发骁龙835Win10电脑预计均是二合一形态的产品当然高通骁龙只是个开始未来也许还能见到三星Exynos联发科华为麒麟小米澎湃等进入Windows10桌面平台']"
      ]
     },
     "execution_count": 19,
     "metadata": {},
     "output_type": "execute_result"
    }
   ],
   "source": [
    "news_content[0:2]"
   ]
  },
  {
   "cell_type": "code",
   "execution_count": 20,
   "metadata": {
    "collapsed": true
   },
   "outputs": [],
   "source": [
    "news_content = [cut(n) for n in news_content]  # 分词"
   ]
  },
  {
   "cell_type": "code",
   "execution_count": 21,
   "metadata": {
    "collapsed": false
   },
   "outputs": [
    {
     "data": {
      "text/plain": [
       "'骁龙 835 作为 唯一 通过 Windows10 桌面 平台 认证 的 ARM 处理器 高通 强调 不会 因为 只 考虑 性能 而 去 屏蔽掉 小 核心 相反 他们 正 联手 微软 找到 一种 适合 桌面 平台 的 兼顾 性能 和 功耗 的 完美 方案 报道 称 微软 已经 拿到 了 一些 新 的 源码 以便 Windows10 更好 地 理解 biglittle 架构 资料 显示 骁龙 835 作为 一款 集成 了 CPUGPU 基带 蓝牙 WiFi 的 SoC 比 传统 的 Wintel 方案 可以 节省 至少 30 的 PCB 空间 按计划 今年 Q4 华硕 惠普 联想 将 首发 骁龙 835Win10 电脑 预计 均 是 二合一 形态 的 产品 当然 高通 骁龙 只是 个 开始 未来 也许 还 能 见到 三星 Exynos 联发科 华为 麒麟 小米 澎湃 等 进入 Windows10 桌面 平台'"
      ]
     },
     "execution_count": 21,
     "metadata": {},
     "output_type": "execute_result"
    }
   ],
   "source": [
    "news_content[1]"
   ]
  },
  {
   "cell_type": "code",
   "execution_count": 22,
   "metadata": {
    "collapsed": true
   },
   "outputs": [],
   "source": [
    "with open(\"news_sentence_cut.txt\", \"w\", encoding=\"utf-8\") as f:\n",
    "    for n in news_content:\n",
    "        f.write(n + \"\\n\")"
   ]
  },
  {
   "cell_type": "code",
   "execution_count": 23,
   "metadata": {
    "collapsed": true
   },
   "outputs": [],
   "source": [
    "from gensim.models import Word2Vec\n",
    "from gensim.models.word2vec import LineSentence"
   ]
  },
  {
   "cell_type": "markdown",
   "metadata": {},
   "source": [
    "[Word2vec参数解读](https://yifdu.github.io/2019/04/09/%E8%BE%BE%E8%A7%82%E6%95%B0%E6%8D%AE%E7%AB%9E%E8%B5%9B%EF%BC%88%E4%BA%8C%EF%BC%89/)"
   ]
  },
  {
   "cell_type": "markdown",
   "metadata": {},
   "source": [
    "- **如果语料文件不是csv，而直接是训练的txt文件，可以使用LineSentence()直接把文件读成正确格式**"
   ]
  },
  {
   "cell_type": "code",
   "execution_count": 24,
   "metadata": {
    "collapsed": true
   },
   "outputs": [],
   "source": [
    "# size特征向量维度；workers多线程；window当前词与预测词在一个句子中的最大距离是多少"
   ]
  },
  {
   "cell_type": "code",
   "execution_count": 25,
   "metadata": {
    "collapsed": false
   },
   "outputs": [],
   "source": [
    "news_word2ve = Word2Vec(LineSentence(\"news_sentence_cut.txt\"), size=35, workers=8, window=5)"
   ]
  },
  {
   "cell_type": "code",
   "execution_count": 26,
   "metadata": {
    "collapsed": false,
    "scrolled": false
   },
   "outputs": [
    {
     "name": "stderr",
     "output_type": "stream",
     "text": [
      "C:\\Program Files\\Anaconda3\\lib\\site-packages\\ipykernel\\__main__.py:1: DeprecationWarning: Call to deprecated `most_similar` (Method will be removed in 4.0.0, use self.wv.most_similar() instead).\n",
      "  if __name__ == '__main__':\n"
     ]
    },
    {
     "data": {
      "text/plain": [
       "[('大陆', 0.7586510181427002),\n",
       " ('国内', 0.7479719519615173),\n",
       " ('海外', 0.745319128036499),\n",
       " ('世界', 0.7380387783050537),\n",
       " ('亚洲', 0.7293088436126709),\n",
       " ('全世界', 0.7280424237251282),\n",
       " ('我国', 0.7273455262184143),\n",
       " ('香港', 0.7259159088134766),\n",
       " ('全球', 0.7240750193595886),\n",
       " ('芬兰', 0.7124974727630615)]"
      ]
     },
     "execution_count": 26,
     "metadata": {},
     "output_type": "execute_result"
    }
   ],
   "source": [
    "news_word2ve.most_similar(\"中国\", topn=10)"
   ]
  },
  {
   "cell_type": "markdown",
   "metadata": {},
   "source": [
    "- **把词向量的维度size提高，效果会更好**"
   ]
  },
  {
   "cell_type": "code",
   "execution_count": 27,
   "metadata": {
    "collapsed": true
   },
   "outputs": [],
   "source": [
    "news_word2vec = Word2Vec(LineSentence('news_sentence_cut.txt'), size=200, workers=8, window=5)"
   ]
  },
  {
   "cell_type": "code",
   "execution_count": 28,
   "metadata": {
    "collapsed": false
   },
   "outputs": [
    {
     "data": {
      "text/plain": [
       "(99789, 200)"
      ]
     },
     "execution_count": 28,
     "metadata": {},
     "output_type": "execute_result"
    }
   ],
   "source": [
    "news_word2vec.wv.vectors.shape"
   ]
  },
  {
   "cell_type": "code",
   "execution_count": 29,
   "metadata": {
    "collapsed": false,
    "scrolled": true
   },
   "outputs": [
    {
     "name": "stderr",
     "output_type": "stream",
     "text": [
      "C:\\Program Files\\Anaconda3\\lib\\site-packages\\ipykernel\\__main__.py:1: DeprecationWarning: Call to deprecated `most_similar` (Method will be removed in 4.0.0, use self.wv.most_similar() instead).\n",
      "  if __name__ == '__main__':\n"
     ]
    },
    {
     "data": {
      "text/plain": [
       "[('我国', 0.5750895738601685),\n",
       " ('中国政府', 0.4952585995197296),\n",
       " ('中方', 0.4725794196128845),\n",
       " ('国内', 0.46044325828552246),\n",
       " ('海外', 0.45983055233955383),\n",
       " ('亚洲', 0.4236654043197632),\n",
       " ('欧美', 0.4109799563884735),\n",
       " ('大陆', 0.40540748834609985),\n",
       " ('本国', 0.40269404649734497),\n",
       " ('国外', 0.4022749960422516)]"
      ]
     },
     "execution_count": 29,
     "metadata": {},
     "output_type": "execute_result"
    }
   ],
   "source": [
    "news_word2vec.most_similar('中国', topn=10)"
   ]
  },
  {
   "cell_type": "markdown",
   "metadata": {},
   "source": [
    "- **显然size=200训练结果更切合实际**"
   ]
  },
  {
   "cell_type": "code",
   "execution_count": 30,
   "metadata": {
    "collapsed": false
   },
   "outputs": [
    {
     "name": "stderr",
     "output_type": "stream",
     "text": [
      "C:\\Program Files\\Anaconda3\\lib\\site-packages\\ipykernel\\__main__.py:2: DeprecationWarning: Call to deprecated `most_similar` (Method will be removed in 4.0.0, use self.wv.most_similar() instead).\n",
      "  from ipykernel import kernelapp as app\n"
     ]
    },
    {
     "data": {
      "text/plain": [
       "[('表示', 0.7140458822250366),\n",
       " ('告诉', 0.6988792419433594),\n",
       " ('说完', 0.66672682762146),\n",
       " ('指出', 0.6618607640266418),\n",
       " ('认为', 0.6460534334182739),\n",
       " ('看来', 0.6179762482643127),\n",
       " ('坦言', 0.6111668348312378),\n",
       " ('明说', 0.6067384481430054),\n",
       " ('称', 0.604827880859375),\n",
       " ('中说', 0.572059154510498)]"
      ]
     },
     "execution_count": 30,
     "metadata": {},
     "output_type": "execute_result"
    }
   ],
   "source": [
    "# 找出和说意思相近的单词\n",
    "news_word2vec.most_similar('说', topn=10)"
   ]
  },
  {
   "cell_type": "code",
   "execution_count": 31,
   "metadata": {
    "collapsed": false
   },
   "outputs": [
    {
     "data": {
      "text/plain": [
       "99789"
      ]
     },
     "execution_count": 31,
     "metadata": {},
     "output_type": "execute_result"
    }
   ],
   "source": [
    "len(news_word2vec.wv.vocab)"
   ]
  },
  {
   "cell_type": "code",
   "execution_count": 32,
   "metadata": {
    "collapsed": true
   },
   "outputs": [],
   "source": [
    "# defaultdict 的真正意义实现一种全局的初始化，访问任何键都不会抛 KeyError 的异常"
   ]
  },
  {
   "cell_type": "code",
   "execution_count": 33,
   "metadata": {
    "collapsed": true
   },
   "outputs": [],
   "source": [
    "from collections import defaultdict"
   ]
  },
  {
   "cell_type": "code",
   "execution_count": 34,
   "metadata": {
    "collapsed": true
   },
   "outputs": [],
   "source": [
    "def get_related_words(initial_words, model):\n",
    "    \"\"\"\n",
    "    @initial_words: some words we alreadly know\n",
    "    @model: word2vec model\n",
    "    \"\"\"\n",
    "    unseen = initial_words\n",
    "    seen = defaultdict(int)\n",
    "    max_size = 500\n",
    "    \n",
    "    while unseen and len(seen) < max_size:\n",
    "#         if len(seen) % 100 == 0:\n",
    "#             print('seen length: {}'.format(len(seen)))          \n",
    "        node = unseen.pop(0)  # pop(0)删除第一个元素并返回该值\n",
    "        new_expanding = [w for w, s in model.most_similar(node, topn=20)]\n",
    "        unseen += new_expanding\n",
    "        \n",
    "        seen[node] += 1\n",
    "    \n",
    "    return seen"
   ]
  },
  {
   "cell_type": "code",
   "execution_count": 35,
   "metadata": {
    "collapsed": false,
    "scrolled": false
   },
   "outputs": [
    {
     "name": "stderr",
     "output_type": "stream",
     "text": [
      "C:\\Program Files\\Anaconda3\\lib\\site-packages\\ipykernel\\__main__.py:14: DeprecationWarning: Call to deprecated `most_similar` (Method will be removed in 4.0.0, use self.wv.most_similar() instead).\n"
     ]
    }
   ],
   "source": [
    "related_words = get_related_words(initial_words=['说', '认为'], model=news_word2vec)  # 不能用str作为initial_words的输入"
   ]
  },
  {
   "cell_type": "code",
   "execution_count": 36,
   "metadata": {
    "collapsed": false
   },
   "outputs": [
    {
     "data": {
      "text/plain": [
       "[('说', 54),\n",
       " ('表示', 51),\n",
       " ('指出', 48),\n",
       " ('坦言', 47),\n",
       " ('认为', 46),\n",
       " ('看来', 43),\n",
       " ('说完', 41),\n",
       " ('告诉', 41),\n",
       " ('说道', 36),\n",
       " ('透露', 35),\n",
       " ('明说', 32),\n",
       " ('介绍', 29),\n",
       " ('所说', 28),\n",
       " ('地说', 28),\n",
       " ('中说', 27),\n",
       " ('强调', 26),\n",
       " ('写道', 25),\n",
       " ('文说', 24),\n",
       " ('称', 22),\n",
       " ('中称', 17),\n",
       " ('问', 15),\n",
       " ('建议', 15),\n",
       " ('直言', 14),\n",
       " ('声称', 14),\n",
       " ('提到', 14),\n",
       " ('感叹', 12),\n",
       " ('称赞', 12),\n",
       " ('呼吁', 12),\n",
       " ('质疑', 12),\n",
       " ('观点', 11),\n",
       " ('批评', 11),\n",
       " ('说法', 10),\n",
       " ('谈论', 10),\n",
       " ('眼里', 10),\n",
       " ('时说', 10),\n",
       " ('普遍认为', 9),\n",
       " ('相信', 9),\n",
       " ('证实', 9),\n",
       " ('肖', 8),\n",
       " ('如是说', 8),\n",
       " ('特别强调', 8),\n",
       " ('猜测', 7),\n",
       " ('看法', 7),\n",
       " ('谈起', 7),\n",
       " ('暗示', 7),\n",
       " ('张阳', 7),\n",
       " ('解释', 7),\n",
       " ('重申', 7),\n",
       " ('回忆起', 7),\n",
       " ('刘', 7),\n",
       " ('估算', 7),\n",
       " ('承认', 7),\n",
       " ('指责', 6),\n",
       " ('提及', 6),\n",
       " ('觉得', 6),\n",
       " ('口中', 6),\n",
       " ('地问', 6),\n",
       " ('坦承', 6),\n",
       " ('回答', 6),\n",
       " ('主张', 6),\n",
       " ('说出', 6),\n",
       " ('感慨', 6),\n",
       " ('抨击', 6),\n",
       " ('担忧', 5),\n",
       " ('刘赞', 5),\n",
       " ('言论', 5),\n",
       " ('甘为', 5),\n",
       " ('担心', 5),\n",
       " ('谈到', 5),\n",
       " ('敦促', 5),\n",
       " ('眼中', 5),\n",
       " ('提出', 5),\n",
       " ('张隽玮', 5),\n",
       " ('表态', 5),\n",
       " ('满脸', 5),\n",
       " ('还称', 5),\n",
       " ('聊起', 5),\n",
       " ('见到', 5),\n",
       " ('描述', 5),\n",
       " ('巴蒂斯塔', 4),\n",
       " ('深有体会', 4),\n",
       " ('时称', 4),\n",
       " ('永康', 4),\n",
       " ('怀疑', 4),\n",
       " ('想起', 4),\n",
       " ('尼玛', 4),\n",
       " ('爆料', 4),\n",
       " ('确信', 4),\n",
       " ('董', 4),\n",
       " ('深感', 4),\n",
       " ('说文', 4),\n",
       " ('东升', 4),\n",
       " ('率性', 4),\n",
       " ('武说', 4),\n",
       " ('农艺师', 4),\n",
       " ('披露', 4),\n",
       " ('仲', 4),\n",
       " ('估计', 4),\n",
       " ('一天两天', 4),\n",
       " ('知情', 4),\n",
       " ('赵', 4),\n",
       " ('宝林', 4),\n",
       " ('国利', 4),\n",
       " ('德说', 4),\n",
       " ('一贯', 4),\n",
       " ('上称', 4),\n",
       " ('留意到', 4),\n",
       " ('强调指出', 4),\n",
       " ('志军', 4),\n",
       " ('黄进', 4),\n",
       " ('感激', 4),\n",
       " ('志强', 4),\n",
       " ('骂', 4),\n",
       " ('干涉', 4),\n",
       " ('姜宁祁', 4),\n",
       " ('冯武', 4),\n",
       " ('赵珺', 4),\n",
       " ('写给', 4),\n",
       " ('明确指出', 3),\n",
       " ('援引', 3),\n",
       " ('余刚', 3),\n",
       " ('了解', 3),\n",
       " ('因斯', 3),\n",
       " ('记得', 3),\n",
       " ('立场', 3),\n",
       " ('据介绍', 3),\n",
       " ('称当', 3),\n",
       " ('形容', 3),\n",
       " ('第七任', 3),\n",
       " ('应', 3),\n",
       " ('获悉', 3),\n",
       " ('明确提出', 3),\n",
       " ('反复强调', 3),\n",
       " ('着重强调', 3),\n",
       " ('农办', 3),\n",
       " ('爱台', 3),\n",
       " ('测算', 3),\n",
       " ('意思', 3),\n",
       " ('疑虑', 3),\n",
       " ('称继', 3),\n",
       " ('丹麦王国', 3),\n",
       " ('常务', 3),\n",
       " ('据悉', 3),\n",
       " ('部副', 3),\n",
       " ('讲解', 3),\n",
       " ('高度重视', 3),\n",
       " ('称该', 3),\n",
       " ('主任', 3),\n",
       " ('万钢', 3),\n",
       " ('以为', 3),\n",
       " ('设想', 3),\n",
       " ('丁', 3),\n",
       " ('毫不犹豫', 3),\n",
       " ('条法司', 3),\n",
       " ('吴霞', 3),\n",
       " ('陈敏尔', 3),\n",
       " ('常务副', 3),\n",
       " ('谢', 3),\n",
       " ('羞涩', 3),\n",
       " ('此行', 3),\n",
       " ('没错', 3),\n",
       " ('理解', 3),\n",
       " ('忍不住', 3),\n",
       " ('称有', 3),\n",
       " ('称梅', 3),\n",
       " ('正如', 3),\n",
       " ('招致', 3),\n",
       " ('党组书记', 3),\n",
       " ('腼腆', 3),\n",
       " ('提醒', 3),\n",
       " ('赵阳', 3),\n",
       " ('掐住', 3),\n",
       " ('开玩笑', 3),\n",
       " ('覃广华', 3),\n",
       " ('激动', 3),\n",
       " ('里亚布', 2),\n",
       " ('看看', 2),\n",
       " ('感触', 2),\n",
       " ('发表', 2),\n",
       " ('评论', 2),\n",
       " ('宗萍萍', 2),\n",
       " ('总是', 2),\n",
       " ('专家建议', 2),\n",
       " ('一脸', 2),\n",
       " ('引用', 2),\n",
       " ('马研摄', 2),\n",
       " ('跳下去', 2),\n",
       " ('要说', 2),\n",
       " ('魏海摄', 2),\n",
       " ('想法', 2),\n",
       " ('适当', 2),\n",
       " ('提问', 2),\n",
       " ('意见建议', 2),\n",
       " ('要求', 2),\n",
       " ('否认', 2),\n",
       " ('胡若晗', 2),\n",
       " ('呢', 2),\n",
       " ('首先', 2),\n",
       " ('作答', 2),\n",
       " ('挑衅', 2),\n",
       " ('举动', 2),\n",
       " ('慎重', 2),\n",
       " ('回忆', 2),\n",
       " ('疑问', 2),\n",
       " ('招呼', 2),\n",
       " ('发问', 2),\n",
       " ('外交部长', 2),\n",
       " ('意见', 2),\n",
       " ('询问', 2),\n",
       " ('跨洋', 2),\n",
       " ('尼说', 2),\n",
       " ('接受', 2),\n",
       " ('鼓励', 2),\n",
       " ('反问', 2),\n",
       " ('克说', 2),\n",
       " ('一篇', 2),\n",
       " ('一再', 2),\n",
       " ('答', 2),\n",
       " ('心里', 2),\n",
       " ('问道', 2),\n",
       " ('抵制', 2),\n",
       " ('传言', 2),\n",
       " ('谴责', 2),\n",
       " ('请问', 2),\n",
       " ('评价', 2),\n",
       " ('无比', 2),\n",
       " ('为什么', 2),\n",
       " ('对策', 2),\n",
       " ('董小红', 2),\n",
       " ('抹黑', 2),\n",
       " ('耿直', 2),\n",
       " ('态度', 2),\n",
       " ('专访', 2),\n",
       " ('听说', 2),\n",
       " ('吗', 2),\n",
       " ('反对', 2),\n",
       " ('坚称', 2),\n",
       " ('不已', 2),\n",
       " ('不满', 2),\n",
       " ('唐柳雯', 2),\n",
       " ('倍感', 2),\n",
       " ('措辞', 2),\n",
       " ('韩冲', 2),\n",
       " ('指认', 2),\n",
       " ('论调', 2),\n",
       " ('温美', 2),\n",
       " ('认同', 2),\n",
       " ('表述', 2),\n",
       " ('凌朔', 2),\n",
       " ('溢于言表', 2),\n",
       " ('本报讯', 2),\n",
       " ('说起', 2),\n",
       " ('采访', 2),\n",
       " ('道理', 2),\n",
       " ('谈谈', 2),\n",
       " ('不解之缘', 1),\n",
       " ('赞不绝口', 1),\n",
       " ('乐于助人', 1),\n",
       " ('充满信心', 1),\n",
       " ('岛内', 1),\n",
       " ('赞扬', 1),\n",
       " ('陈玉飞', 1),\n",
       " ('贾瓦德', 1),\n",
       " ('展望未来', 1),\n",
       " ('并称', 1),\n",
       " ('学思践', 1),\n",
       " ('扬言', 1),\n",
       " ('冷漠', 1),\n",
       " ('赞美', 1),\n",
       " ('风波', 1),\n",
       " ('听到', 1),\n",
       " ('淋淋', 1),\n",
       " ('高度评价', 1),\n",
       " ('抛出', 1),\n",
       " ('骄傲', 1),\n",
       " ('奏折', 1),\n",
       " ('判断', 1),\n",
       " ('陈菲', 1),\n",
       " ('泪流满面', 1),\n",
       " ('焦虑', 1),\n",
       " ('顾虑', 1),\n",
       " ('预料', 1),\n",
       " ('恐怕', 1),\n",
       " ('罗布', 1),\n",
       " ('纠结', 1),\n",
       " ('尔肯', 1),\n",
       " ('行径', 1),\n",
       " ('思思', 1),\n",
       " ('重整旗鼓', 1),\n",
       " ('坐在', 1),\n",
       " ('怕', 1),\n",
       " ('善始善终', 1),\n",
       " ('肚子饿', 1),\n",
       " ('推测', 1),\n",
       " ('抱怨', 1),\n",
       " ('有加', 1),\n",
       " ('实字', 1),\n",
       " ('料到', 1),\n",
       " ('朱青', 1),\n",
       " ('并作', 1),\n",
       " ('认真学习', 1),\n",
       " ('谢琳', 1),\n",
       " ('黄和逊', 1),\n",
       " ('怒火', 1),\n",
       " ('里德', 1),\n",
       " ('宽慰', 1),\n",
       " ('这番', 1),\n",
       " ('博客', 1),\n",
       " ('或许', 1),\n",
       " ('刘奕湛', 1),\n",
       " ('严隽琪', 1),\n",
       " ('张梦洁', 1),\n",
       " ('愤怒', 1),\n",
       " ('以至于', 1),\n",
       " ('毛鑫', 1),\n",
       " ('难免', 1),\n",
       " ('不由', 1),\n",
       " ('致力于', 1),\n",
       " ('俏俏', 1),\n",
       " ('丑闻', 1),\n",
       " ('勇对', 1),\n",
       " ('非常高兴', 1),\n",
       " ('写下', 1),\n",
       " ('真想', 1),\n",
       " ('第九十', 1),\n",
       " ('热议', 1),\n",
       " ('希望', 1),\n",
       " ('自传', 1),\n",
       " ('倒掉', 1),\n",
       " ('想到', 1),\n",
       " ('举行会谈', 1),\n",
       " ('李琳海', 1),\n",
       " ('说服', 1),\n",
       " ('救救', 1),\n",
       " ('宣示', 1),\n",
       " ('传闻', 1),\n",
       " ('着急', 1),\n",
       " ('忧心忡忡', 1),\n",
       " ('号召', 1),\n",
       " ('高度赞扬', 1),\n",
       " ('期待', 1),\n",
       " ('心爱', 1),\n",
       " ('竭尽全力', 1),\n",
       " ('同盟', 1),\n",
       " ('犀利', 1),\n",
       " ('动用', 1),\n",
       " ('列举', 1),\n",
       " ('离去', 1),\n",
       " ('愿望', 1),\n",
       " ('点赞', 1),\n",
       " ('学长', 1),\n",
       " ('执笔', 1),\n",
       " ('谈及', 1),\n",
       " ('研究部署', 1),\n",
       " ('杨军', 1),\n",
       " ('刘畅', 1),\n",
       " ('陈思', 1),\n",
       " ('正面', 1),\n",
       " ('黄超', 1),\n",
       " ('多时', 1),\n",
       " ('发牢骚', 1),\n",
       " ('李雪笛', 1),\n",
       " ('前瞻性', 1),\n",
       " ('爱过', 1),\n",
       " ('伟人', 1),\n",
       " ('给出', 1),\n",
       " ('困扰', 1),\n",
       " ('南方日报', 1),\n",
       " ('强烈不满', 1),\n",
       " ('深有感触', 1),\n",
       " ('郝薇', 1),\n",
       " ('痛批', 1),\n",
       " ('塞斯', 1),\n",
       " ('外交政策', 1),\n",
       " ('错误', 1),\n",
       " ('童岚', 1),\n",
       " ('坚决贯彻', 1),\n",
       " ('曲澜娟', 1),\n",
       " ('结下', 1),\n",
       " ('李腾', 1),\n",
       " ('社会活动家', 1),\n",
       " ('最令', 1),\n",
       " ('跟随', 1),\n",
       " ('颇感', 1),\n",
       " ('璇', 1),\n",
       " ('环顾四周', 1),\n",
       " ('夙夜在公', 1),\n",
       " ('肯定', 1),\n",
       " ('十几位', 1),\n",
       " ('曾称', 1),\n",
       " ('报复', 1),\n",
       " ('张紫赟', 1),\n",
       " ('狗叫', 1),\n",
       " ('滔滔不绝', 1),\n",
       " ('许久', 1),\n",
       " ('问过', 1),\n",
       " ('轻敌', 1),\n",
       " ('嘲讽', 1),\n",
       " ('辩称', 1),\n",
       " ('逻辑', 1),\n",
       " ('感谢', 1),\n",
       " ('闻到', 1),\n",
       " ('王胜俊', 1),\n",
       " ('薛磊', 1),\n",
       " ('分析', 1),\n",
       " ('简短', 1),\n",
       " ('李佳', 1),\n",
       " ('批判', 1),\n",
       " ('肖娟', 1),\n",
       " ('贡多拉', 1),\n",
       " ('李佩', 1),\n",
       " ('胡说八道', 1),\n",
       " ('过分', 1),\n",
       " ('面带微笑', 1),\n",
       " ('预测', 1),\n",
       " ('喃喃自语', 1),\n",
       " ('由衷', 1),\n",
       " ('哗然', 1),\n",
       " ('策略', 1),\n",
       " ('春晖', 1),\n",
       " ('杨洪波', 1),\n",
       " ('敢管', 1),\n",
       " ('埃米', 1),\n",
       " ('争论', 1),\n",
       " ('钦佩', 1),\n",
       " ('刘帅', 1),\n",
       " ('坚信', 1),\n",
       " ('破口大骂', 1),\n",
       " ('收下', 1),\n",
       " ('打得', 1),\n",
       " ('头疼', 1),\n",
       " ('积极参与', 1),\n",
       " ('当然', 1),\n",
       " ('刘昱', 1),\n",
       " ('魏莘陆欢', 1),\n",
       " ('这时候', 1),\n",
       " ('得逞', 1),\n",
       " ('恪守', 1),\n",
       " ('老伴', 1),\n",
       " ('不必', 1),\n",
       " ('拜托', 1),\n",
       " ('不无', 1),\n",
       " ('奉行', 1),\n",
       " ('拒绝', 1),\n",
       " ('拜访', 1),\n",
       " ('坚定', 1),\n",
       " ('重启', 1),\n",
       " ('鲁金博摄', 1),\n",
       " ('主流', 1),\n",
       " ('关注', 1),\n",
       " ('别有用心', 1),\n",
       " ('遇见', 1),\n",
       " ('回头一看', 1),\n",
       " ('目睹', 1),\n",
       " ('表示感谢', 1),\n",
       " ('光明磊落', 1),\n",
       " ('采取措施', 1),\n",
       " ('回忆录', 1),\n",
       " ('忘记', 1),\n",
       " ('误导', 1),\n",
       " ('爽快', 1),\n",
       " ('一锤', 1),\n",
       " ('旸', 1),\n",
       " ('亲眼看到', 1),\n",
       " ('看到', 1),\n",
       " ('王珏', 1),\n",
       " ('期望', 1),\n",
       " ('永难', 1),\n",
       " ('郑报', 1),\n",
       " ('徐金鹏', 1),\n",
       " ('汉斯', 1),\n",
       " ('惩罚', 1),\n",
       " ('对待', 1),\n",
       " ('亲历', 1),\n",
       " ('立说', 1),\n",
       " ('薛天', 1),\n",
       " ('看见', 1),\n",
       " ('谢晗', 1),\n",
       " ('科技日报', 1),\n",
       " ('一子', 1),\n",
       " ('争议', 1),\n",
       " ('也许', 1),\n",
       " ('听见', 1),\n",
       " ('回击', 1),\n",
       " ('不信', 1),\n",
       " ('王博摄', 1),\n",
       " ('擦肩而过', 1),\n",
       " ('无力', 1),\n",
       " ('害怕', 1),\n",
       " ('看好', 1),\n",
       " ('调侃', 1),\n",
       " ('当过', 1),\n",
       " ('玢', 1),\n",
       " ('杨维', 1),\n",
       " ('极力', 1),\n",
       " ('穆序', 1),\n",
       " ('见解', 1),\n",
       " ('商界', 1),\n",
       " ('宣称', 1),\n",
       " ('问候', 1)]"
      ]
     },
     "execution_count": 36,
     "metadata": {},
     "output_type": "execute_result"
    }
   ],
   "source": [
    "sorted(related_words.items(), key=lambda x: x[1], reverse=True)"
   ]
  },
  {
   "cell_type": "markdown",
   "metadata": {},
   "source": [
    "# TF-IDF Keywords"
   ]
  },
  {
   "cell_type": "markdown",
   "metadata": {},
   "source": [
    "<img src=\"Abstract.png\", width=500, height=500>"
   ]
  },
  {
   "cell_type": "markdown",
   "metadata": {},
   "source": [
    "- **TF-IDF的优点是简单快速，而且容易理解。缺点是有时候用词频来衡量文章中的一个词的重要性不够全面，有时候重要的词出现的可能不够多，而且这种计算无法体现位置信息，无法体现词在上下文的重要性。如果要体现词的上下文结构，那么你可能需要使用word2vec算法来支持。**"
   ]
  },
  {
   "cell_type": "code",
   "execution_count": 37,
   "metadata": {
    "collapsed": false
   },
   "outputs": [
    {
     "data": {
      "text/plain": [
       "'此外 自 本周 6 月 12 日起 除 小米 手机 6 等 15 款 机型 外 其余 机型 已 暂停 更新 发布 含 开发 版 体验版 内测 稳定版 暂不受 影响 以 确保 工程师 可以 集中 全部 精力 进行 系统优化 工作 有人 猜测 这 也 是 将 精力 主要 用到 MIUI9 的 研发 之中 MIUI8 去年 5 月 发布 距今已有 一年 有余 也 是 时候 更新换代 了 当然 关于 MIUI9 的 确切 信息 我们 还是 等待 官方消息'"
      ]
     },
     "execution_count": 37,
     "metadata": {},
     "output_type": "execute_result"
    }
   ],
   "source": [
    "news_content[0]"
   ]
  },
  {
   "cell_type": "code",
   "execution_count": 38,
   "metadata": {
    "collapsed": true
   },
   "outputs": [],
   "source": [
    "def document_frequency(word):\n",
    "    return sum(1 for n in news_content if word in n)  # 从1开始累加"
   ]
  },
  {
   "cell_type": "code",
   "execution_count": 39,
   "metadata": {
    "collapsed": false,
    "scrolled": true
   },
   "outputs": [
    {
     "data": {
      "text/plain": [
       "126"
      ]
     },
     "execution_count": 39,
     "metadata": {},
     "output_type": "execute_result"
    }
   ],
   "source": [
    "document_frequency('下雨')"
   ]
  },
  {
   "cell_type": "code",
   "execution_count": 40,
   "metadata": {
    "collapsed": true
   },
   "outputs": [],
   "source": [
    "# 换一种通俗的写法"
   ]
  },
  {
   "cell_type": "code",
   "execution_count": 41,
   "metadata": {
    "collapsed": true
   },
   "outputs": [],
   "source": [
    "def test(word):\n",
    "    base = 0\n",
    "    for n in news_content:\n",
    "        if word in n:\n",
    "            base += 1\n",
    "    return base"
   ]
  },
  {
   "cell_type": "code",
   "execution_count": 42,
   "metadata": {
    "collapsed": false
   },
   "outputs": [
    {
     "data": {
      "text/plain": [
       "126"
      ]
     },
     "execution_count": 42,
     "metadata": {},
     "output_type": "execute_result"
    }
   ],
   "source": [
    "test('下雨')"
   ]
  },
  {
   "cell_type": "code",
   "execution_count": 43,
   "metadata": {
    "collapsed": true
   },
   "outputs": [],
   "source": [
    "# 计算TF-IDF值"
   ]
  },
  {
   "cell_type": "code",
   "execution_count": 44,
   "metadata": {
    "collapsed": true
   },
   "outputs": [],
   "source": [
    "import math"
   ]
  },
  {
   "cell_type": "code",
   "execution_count": 45,
   "metadata": {
    "collapsed": true
   },
   "outputs": [],
   "source": [
    "def idf(word):\n",
    "    return math.log10(len(news_content) / document_frequency(word))"
   ]
  },
  {
   "cell_type": "code",
   "execution_count": 46,
   "metadata": {
    "collapsed": true
   },
   "outputs": [],
   "source": [
    "def tf(word, document):\n",
    "    words = document.split()\n",
    "    return words.count(word) / len(words)"
   ]
  },
  {
   "cell_type": "code",
   "execution_count": 47,
   "metadata": {
    "collapsed": false
   },
   "outputs": [
    {
     "data": {
      "text/plain": [
       "False"
      ]
     },
     "execution_count": 47,
     "metadata": {},
     "output_type": "execute_result"
    }
   ],
   "source": [
    "idf('的') > idf('路径')"
   ]
  },
  {
   "cell_type": "code",
   "execution_count": 48,
   "metadata": {
    "collapsed": true
   },
   "outputs": [],
   "source": [
    "test_doc = news_content[20]"
   ]
  },
  {
   "cell_type": "code",
   "execution_count": 49,
   "metadata": {
    "collapsed": false
   },
   "outputs": [
    {
     "data": {
      "text/plain": [
       "True"
      ]
     },
     "execution_count": 49,
     "metadata": {},
     "output_type": "execute_result"
    }
   ],
   "source": [
    "tf('的', test_doc) > tf('空军', test_doc)  # 所以只统计词频是不够的"
   ]
  },
  {
   "cell_type": "code",
   "execution_count": 50,
   "metadata": {
    "collapsed": true
   },
   "outputs": [],
   "source": [
    "# 所有tf值排序"
   ]
  },
  {
   "cell_type": "code",
   "execution_count": 51,
   "metadata": {
    "collapsed": false
   },
   "outputs": [],
   "source": [
    "tfs = list(set([(tf(word, test_doc), word) for word in test_doc.split()]))"
   ]
  },
  {
   "cell_type": "code",
   "execution_count": 52,
   "metadata": {
    "collapsed": false
   },
   "outputs": [
    {
     "data": {
      "text/plain": [
       "[(0.07398568019093078, '的'),\n",
       " (0.03579952267303103, '叙利亚'),\n",
       " (0.028639618138424822, '在'),\n",
       " (0.016706443914081145, '是'),\n",
       " (0.016706443914081145, '俄罗斯')]"
      ]
     },
     "execution_count": 52,
     "metadata": {},
     "output_type": "execute_result"
    }
   ],
   "source": [
    "sorted(tfs, reverse=True)[:5]"
   ]
  },
  {
   "cell_type": "code",
   "execution_count": 53,
   "metadata": {
    "collapsed": true
   },
   "outputs": [],
   "source": [
    "# 文档关键词"
   ]
  },
  {
   "cell_type": "code",
   "execution_count": 54,
   "metadata": {
    "collapsed": true
   },
   "outputs": [],
   "source": [
    "def get_keywords_of_document(document):\n",
    "    words = set(document.split())  # 去除重复的词\n",
    "    tf_idf = [\n",
    "        (w, tf(w, document) * idf(w)) for w in words\n",
    "    ]\n",
    "    tf_idf = sorted(tf_idf, key=lambda x: x[1], reverse=True)\n",
    "    return tf_idf[:20]"
   ]
  },
  {
   "cell_type": "code",
   "execution_count": 55,
   "metadata": {
    "collapsed": false,
    "scrolled": true
   },
   "outputs": [],
   "source": [
    "test_keywords = get_keywords_of_document(test_doc)"
   ]
  },
  {
   "cell_type": "code",
   "execution_count": 56,
   "metadata": {
    "collapsed": false
   },
   "outputs": [
    {
     "data": {
      "text/plain": [
       "[('叙利亚', 0.06761286746065834),\n",
       " ('军方', 0.025971205163044207),\n",
       " ('俄罗斯', 0.021036122316160605),\n",
       " ('袭机', 0.02076516149147738),\n",
       " ('美军', 0.020361025186163298),\n",
       " ('惹怒', 0.018487733067994505),\n",
       " ('瞄准', 0.017630569291415075),\n",
       " ('备忘录', 0.017234278334081025),\n",
       " ('暂停', 0.015672553677061118),\n",
       " ('领空', 0.01525769197193309),\n",
       " ('俄罗斯国防部', 0.014922608692561562),\n",
       " ('联军', 0.0148616335706693),\n",
       " ('军机', 0.014802400835672547),\n",
       " ('击落', 0.014773407290506945),\n",
       " ('地面', 0.014411757072843832),\n",
       " ('IS', 0.014265267286142809),\n",
       " ('事件', 0.013869324084843196),\n",
       " ('恐怖分子', 0.01223482214524077),\n",
       " ('袭击', 0.012222640699296032),\n",
       " ('俄方', 0.011727050053680311)]"
      ]
     },
     "execution_count": 56,
     "metadata": {},
     "output_type": "execute_result"
    }
   ],
   "source": [
    "test_keywords"
   ]
  },
  {
   "cell_type": "code",
   "execution_count": 57,
   "metadata": {
    "collapsed": true
   },
   "outputs": [],
   "source": [
    "# %prun用来统计各函数调用次数及耗时，结果以弹窗显示"
   ]
  },
  {
   "cell_type": "code",
   "execution_count": 58,
   "metadata": {
    "collapsed": false,
    "scrolled": true
   },
   "outputs": [
    {
     "name": "stdout",
     "output_type": "stream",
     "text": [
      " "
     ]
    }
   ],
   "source": [
    "%prun get_keywords_of_document(test_doc)"
   ]
  },
  {
   "cell_type": "markdown",
   "metadata": {},
   "source": [
    "<img src=\"prun1.png\", width=600, height=600>"
   ]
  },
  {
   "cell_type": "markdown",
   "metadata": {
    "collapsed": true
   },
   "source": [
    "#  Words cloud"
   ]
  },
  {
   "cell_type": "code",
   "execution_count": 59,
   "metadata": {
    "collapsed": false
   },
   "outputs": [],
   "source": [
    "import wordcloud"
   ]
  },
  {
   "cell_type": "code",
   "execution_count": 60,
   "metadata": {
    "collapsed": true
   },
   "outputs": [],
   "source": [
    "font = wordcloud.WordCloud(r'../datasource/SourceHanSerifSC-Regular.otf')"
   ]
  },
  {
   "cell_type": "code",
   "execution_count": 61,
   "metadata": {
    "collapsed": true
   },
   "outputs": [],
   "source": [
    "import matplotlib.pyplot as plt"
   ]
  },
  {
   "cell_type": "code",
   "execution_count": 62,
   "metadata": {
    "collapsed": true
   },
   "outputs": [],
   "source": [
    "%matplotlib inline"
   ]
  },
  {
   "cell_type": "code",
   "execution_count": 63,
   "metadata": {
    "collapsed": true
   },
   "outputs": [],
   "source": [
    "test_doc_keywords_dict = {\n",
    "    w: score for w, score in test_keywords\n",
    "}"
   ]
  },
  {
   "cell_type": "code",
   "execution_count": 64,
   "metadata": {
    "collapsed": false
   },
   "outputs": [
    {
     "data": {
      "text/plain": [
       "<matplotlib.image.AxesImage at 0x175c8968278>"
      ]
     },
     "execution_count": 64,
     "metadata": {},
     "output_type": "execute_result"
    },
    {
     "data": {
      "image/png": "[encoded data removed]",
      "text/plain": [
       "<matplotlib.figure.Figure at 0x175c9479358>"
      ]
     },
     "metadata": {},
     "output_type": "display_data"
    }
   ],
   "source": [
    "plt.imshow(font.generate_from_frequencies(test_doc_keywords_dict))  # 填入字典"
   ]
  },
  {
   "cell_type": "code",
   "execution_count": 65,
   "metadata": {
    "collapsed": false
   },
   "outputs": [],
   "source": [
    "import cv2\n",
    "import numpy as np"
   ]
  },
  {
   "cell_type": "code",
   "execution_count": 66,
   "metadata": {
    "collapsed": true
   },
   "outputs": [],
   "source": [
    "from PIL import Image, ImageDraw"
   ]
  },
  {
   "cell_type": "code",
   "execution_count": 67,
   "metadata": {
    "collapsed": false
   },
   "outputs": [
    {
     "data": {
      "text/plain": [
       "'C:\\\\Users\\\\JeremySun\\\\Desktop\\\\NLPCamp\\\\datasource'"
      ]
     },
     "execution_count": 67,
     "metadata": {},
     "output_type": "execute_result"
    }
   ],
   "source": [
    "%pwd"
   ]
  },
  {
   "cell_type": "code",
   "execution_count": 68,
   "metadata": {
    "collapsed": true
   },
   "outputs": [],
   "source": [
    "img = Image.open('../05人工智能与自然语言处理8.3/apple.png')"
   ]
  },
  {
   "cell_type": "code",
   "execution_count": 69,
   "metadata": {
    "collapsed": false
   },
   "outputs": [
    {
     "data": {
      "image/png": "[encoded data removed]",
      "text/plain": [
       "<PIL.PngImagePlugin.PngImageFile image mode=P size=803x804 at 0x175C8E5A208>"
      ]
     },
     "execution_count": 69,
     "metadata": {},
     "output_type": "execute_result"
    }
   ],
   "source": [
    "img"
   ]
  },
  {
   "cell_type": "code",
   "execution_count": 70,
   "metadata": {
    "collapsed": true
   },
   "outputs": [],
   "source": [
    "mask = np.array(img)"
   ]
  },
  {
   "cell_type": "code",
   "execution_count": 71,
   "metadata": {
    "collapsed": false
   },
   "outputs": [
    {
     "data": {
      "text/plain": [
       "array([[0, 0, 0, ..., 0, 0, 0],\n",
       "       [0, 0, 0, ..., 0, 0, 0],\n",
       "       [0, 0, 0, ..., 0, 0, 0],\n",
       "       ...,\n",
       "       [0, 0, 0, ..., 0, 0, 0],\n",
       "       [0, 0, 0, ..., 0, 0, 0],\n",
       "       [0, 0, 0, ..., 0, 0, 0]], dtype=uint8)"
      ]
     },
     "execution_count": 71,
     "metadata": {},
     "output_type": "execute_result"
    }
   ],
   "source": [
    "mask"
   ]
  },
  {
   "cell_type": "code",
   "execution_count": 72,
   "metadata": {
    "collapsed": true
   },
   "outputs": [],
   "source": [
    "# 将边界之外的区域转化为白色"
   ]
  },
  {
   "cell_type": "code",
   "execution_count": 73,
   "metadata": {
    "collapsed": true
   },
   "outputs": [],
   "source": [
    "mask = np.where(mask == 0, 255, mask)"
   ]
  },
  {
   "cell_type": "code",
   "execution_count": 74,
   "metadata": {
    "collapsed": false
   },
   "outputs": [
    {
     "data": {
      "text/plain": [
       "array([[255, 255, 255, ..., 255, 255, 255],\n",
       "       [255, 255, 255, ..., 255, 255, 255],\n",
       "       [255, 255, 255, ..., 255, 255, 255],\n",
       "       ...,\n",
       "       [255, 255, 255, ..., 255, 255, 255],\n",
       "       [255, 255, 255, ..., 255, 255, 255],\n",
       "       [255, 255, 255, ..., 255, 255, 255]], dtype=uint8)"
      ]
     },
     "execution_count": 74,
     "metadata": {},
     "output_type": "execute_result"
    }
   ],
   "source": [
    "mask"
   ]
  },
  {
   "cell_type": "code",
   "execution_count": 75,
   "metadata": {
    "collapsed": true
   },
   "outputs": [],
   "source": [
    "apple_font = wordcloud.WordCloud('SourceHanSerifSC-Regular.otf', mask=mask, background_color='white', contour_color='firebrick', contour_width=3)"
   ]
  },
  {
   "cell_type": "code",
   "execution_count": 76,
   "metadata": {
    "collapsed": false
   },
   "outputs": [
    {
     "data": {
      "text/plain": [
       "(-0.5, 802.5, 803.5, -0.5)"
      ]
     },
     "execution_count": 76,
     "metadata": {},
     "output_type": "execute_result"
    },
    {
     "data": {
      "image/png": "[encoded data removed]",
      "text/plain": [
       "<matplotlib.figure.Figure at 0x175ca3536a0>"
      ]
     },
     "metadata": {},
     "output_type": "display_data"
    }
   ],
   "source": [
    "plt.imshow(apple_font.generate_from_frequencies(test_doc_keywords_dict))\n",
    "plt.axis('off')"
   ]
  },
  {
   "cell_type": "markdown",
   "metadata": {},
   "source": [
    "# TF-IDF Vectorized"
   ]
  },
  {
   "cell_type": "markdown",
   "metadata": {},
   "source": [
    "- **sklearn.feature_extraction模块，可以用于从包含文本和图片的数据集中提取特征，以便支持机器学习算法使用。**"
   ]
  },
  {
   "cell_type": "code",
   "execution_count": 77,
   "metadata": {
    "collapsed": true
   },
   "outputs": [],
   "source": [
    "# Convert a collection of raw documents to a matrix of TF-IDF features."
   ]
  },
  {
   "cell_type": "code",
   "execution_count": 78,
   "metadata": {
    "collapsed": true
   },
   "outputs": [],
   "source": [
    "from sklearn.feature_extraction.text import TfidfVectorizer"
   ]
  },
  {
   "cell_type": "code",
   "execution_count": 79,
   "metadata": {
    "collapsed": true
   },
   "outputs": [],
   "source": [
    "# If not None, build a vocabulary that only consider the top max_features ordered by term frequency across the corpus."
   ]
  },
  {
   "cell_type": "code",
   "execution_count": 80,
   "metadata": {
    "collapsed": true
   },
   "outputs": [],
   "source": [
    "vectorized = TfidfVectorizer(max_features=10000)  # 创建变量函数"
   ]
  },
  {
   "cell_type": "code",
   "execution_count": 81,
   "metadata": {
    "collapsed": true
   },
   "outputs": [],
   "source": [
    "sub_samples = news_content[:50000]"
   ]
  },
  {
   "cell_type": "code",
   "execution_count": 82,
   "metadata": {
    "collapsed": true
   },
   "outputs": [],
   "source": [
    "X = vectorized.fit_transform(sub_samples)"
   ]
  },
  {
   "cell_type": "code",
   "execution_count": 83,
   "metadata": {
    "collapsed": false
   },
   "outputs": [
    {
     "data": {
      "text/plain": [
       "(50000, 10000)"
      ]
     },
     "execution_count": 83,
     "metadata": {},
     "output_type": "execute_result"
    }
   ],
   "source": [
    "X.shape"
   ]
  },
  {
   "cell_type": "code",
   "execution_count": 84,
   "metadata": {
    "collapsed": false
   },
   "outputs": [
    {
     "data": {
      "text/plain": [
       "(50000, 10000)"
      ]
     },
     "execution_count": 84,
     "metadata": {},
     "output_type": "execute_result"
    }
   ],
   "source": [
    "X.A.shape  # 稀疏矩阵转化为numpy array"
   ]
  },
  {
   "cell_type": "code",
   "execution_count": 85,
   "metadata": {
    "collapsed": true
   },
   "outputs": [],
   "source": [
    "# 通过vectorizer.vocabulary_可以访问特征词的字典，键为特征词，值为特征词在词袋子列表中的下标"
   ]
  },
  {
   "cell_type": "code",
   "execution_count": 86,
   "metadata": {
    "collapsed": false
   },
   "outputs": [
    {
     "data": {
      "text/plain": [
       "10000"
      ]
     },
     "execution_count": 86,
     "metadata": {},
     "output_type": "execute_result"
    }
   ],
   "source": [
    "len(vectorized.vocabulary_)"
   ]
  },
  {
   "cell_type": "code",
   "execution_count": 87,
   "metadata": {
    "collapsed": false
   },
   "outputs": [
    {
     "data": {
      "text/plain": [
       "((1, 10000), (1, 10000), True)"
      ]
     },
     "execution_count": 87,
     "metadata": {},
     "output_type": "execute_result"
    }
   ],
   "source": [
    "X[0].toarray().shape, X[0].A.shape, (X[0].toarray() == X[0].A).all()  # toarray()将列表直接妆花为数组"
   ]
  },
  {
   "cell_type": "code",
   "execution_count": 88,
   "metadata": {
    "collapsed": true
   },
   "outputs": [],
   "source": [
    "import random"
   ]
  },
  {
   "cell_type": "code",
   "execution_count": 89,
   "metadata": {
    "collapsed": true
   },
   "outputs": [],
   "source": [
    "document_id_1, document_id_2 = random.randint(0, 1000), random.randint(0, 1000)"
   ]
  },
  {
   "cell_type": "code",
   "execution_count": 90,
   "metadata": {
    "collapsed": false
   },
   "outputs": [
    {
     "data": {
      "text/plain": [
       "(33, 266)"
      ]
     },
     "execution_count": 90,
     "metadata": {},
     "output_type": "execute_result"
    }
   ],
   "source": [
    "document_id_1, document_id_2"
   ]
  },
  {
   "cell_type": "code",
   "execution_count": 91,
   "metadata": {
    "collapsed": true
   },
   "outputs": [],
   "source": [
    "vector_of_d_1 = X[document_id_1].toarray()[0]"
   ]
  },
  {
   "cell_type": "code",
   "execution_count": 92,
   "metadata": {
    "collapsed": true
   },
   "outputs": [],
   "source": [
    "vector_of_d_2 = X[document_id_2].toarray()[0]"
   ]
  },
  {
   "cell_type": "markdown",
   "metadata": {},
   "source": [
    "# Cosin distance"
   ]
  },
  {
   "cell_type": "code",
   "execution_count": 93,
   "metadata": {
    "collapsed": true
   },
   "outputs": [],
   "source": [
    "from scipy.spatial.distance import cosine"
   ]
  },
  {
   "cell_type": "code",
   "execution_count": 94,
   "metadata": {
    "collapsed": true
   },
   "outputs": [],
   "source": [
    "def distance(v1, v2):\n",
    "    return cosine(v1, v2)"
   ]
  },
  {
   "cell_type": "code",
   "execution_count": 95,
   "metadata": {
    "collapsed": false
   },
   "outputs": [
    {
     "data": {
      "text/plain": [
       "0.1317568578755407"
      ]
     },
     "execution_count": 95,
     "metadata": {},
     "output_type": "execute_result"
    }
   ],
   "source": [
    "distance([1, 2], [3, 2])"
   ]
  },
  {
   "cell_type": "code",
   "execution_count": 96,
   "metadata": {
    "collapsed": true
   },
   "outputs": [],
   "source": [
    "random_choose = random.randint(0, 1000)"
   ]
  },
  {
   "cell_type": "code",
   "execution_count": 97,
   "metadata": {
    "collapsed": false
   },
   "outputs": [
    {
     "data": {
      "text/plain": [
       "713"
      ]
     },
     "execution_count": 97,
     "metadata": {},
     "output_type": "execute_result"
    }
   ],
   "source": [
    "random_choose"
   ]
  },
  {
   "cell_type": "code",
   "execution_count": 98,
   "metadata": {
    "collapsed": false
   },
   "outputs": [
    {
     "data": {
      "text/plain": [
       "0.9687328151336656"
      ]
     },
     "execution_count": 98,
     "metadata": {},
     "output_type": "execute_result"
    }
   ],
   "source": [
    "distance(X[random_choose].toarray()[0], vector_of_d_1)"
   ]
  },
  {
   "cell_type": "code",
   "execution_count": 99,
   "metadata": {
    "collapsed": false
   },
   "outputs": [
    {
     "data": {
      "text/plain": [
       "0.9876616823150409"
      ]
     },
     "execution_count": 99,
     "metadata": {},
     "output_type": "execute_result"
    }
   ],
   "source": [
    "distance(X[random_choose].toarray()[0], vector_of_d_2)"
   ]
  },
  {
   "cell_type": "code",
   "execution_count": 100,
   "metadata": {
    "collapsed": true
   },
   "outputs": [],
   "source": [
    "# 找出和random_choose在tf-idf向量上最接近的文档"
   ]
  },
  {
   "cell_type": "code",
   "execution_count": 101,
   "metadata": {
    "collapsed": false
   },
   "outputs": [
    {
     "data": {
      "text/plain": [
       "[713, 307, 86, 31, 122, 48, 108, 38, 104, 35]"
      ]
     },
     "execution_count": 101,
     "metadata": {},
     "output_type": "execute_result"
    }
   ],
   "source": [
    "sorted(range(1000), key=lambda i: distance(X[random_choose].toarray()[0], X[i].toarray()[0]))[:10]"
   ]
  },
  {
   "cell_type": "markdown",
   "metadata": {},
   "source": [
    "# Build Search Engine"
   ]
  },
  {
   "cell_type": "markdown",
   "metadata": {},
   "source": [
    "- **Input: Word**\n",
    "- **Output: Documents**"
   ]
  },
  {
   "cell_type": "code",
   "execution_count": 102,
   "metadata": {
    "collapsed": true
   },
   "outputs": [],
   "source": [
    "# all() 函数用于判断给定的可迭代参数 iterable 中的所有元素是否都为 TRUE，如果是返回 True，否则返回 False。"
   ]
  },
  {
   "cell_type": "code",
   "execution_count": 103,
   "metadata": {
    "collapsed": false
   },
   "outputs": [],
   "source": [
    "def naive_search(keywords):\n",
    "    return [i for i, n in enumerate(news_content) if all(k in n for k in keywords)]"
   ]
  },
  {
   "cell_type": "code",
   "execution_count": 105,
   "metadata": {
    "collapsed": false
   },
   "outputs": [],
   "source": [
    "news_id = naive_search('美军 司令 航母'.split())"
   ]
  },
  {
   "cell_type": "code",
   "execution_count": 106,
   "metadata": {
    "collapsed": false
   },
   "outputs": [
    {
     "data": {
      "text/plain": [
       "[2844,\n",
       " 21484,\n",
       " 21523,\n",
       " 21784,\n",
       " 21901,\n",
       " 22987,\n",
       " 33522,\n",
       " 33770,\n",
       " 34532,\n",
       " 34887,\n",
       " 37846,\n",
       " 38049,\n",
       " 38096,\n",
       " 45474,\n",
       " 45507,\n",
       " 87483,\n",
       " 88997]"
      ]
     },
     "execution_count": 106,
     "metadata": {},
     "output_type": "execute_result"
    }
   ],
   "source": [
    "news_id"
   ]
  },
  {
   "cell_type": "code",
   "execution_count": 107,
   "metadata": {
    "collapsed": false
   },
   "outputs": [
    {
     "data": {
      "text/plain": [
       "(50000, 10000)"
      ]
     },
     "execution_count": 107,
     "metadata": {},
     "output_type": "execute_result"
    }
   ],
   "source": [
    "X.shape"
   ]
  },
  {
   "cell_type": "code",
   "execution_count": 108,
   "metadata": {
    "collapsed": true
   },
   "outputs": [],
   "source": [
    "transposed_x = X.T.toarray()  # 转置"
   ]
  },
  {
   "cell_type": "code",
   "execution_count": 110,
   "metadata": {
    "collapsed": false
   },
   "outputs": [
    {
     "data": {
      "text/plain": [
       "(10000, 50000)"
      ]
     },
     "execution_count": 110,
     "metadata": {},
     "output_type": "execute_result"
    }
   ],
   "source": [
    "transposed_x.shape"
   ]
  },
  {
   "cell_type": "code",
   "execution_count": 111,
   "metadata": {
    "collapsed": true
   },
   "outputs": [],
   "source": [
    "word2id = vectorized.vocabulary_"
   ]
  },
  {
   "cell_type": "code",
   "execution_count": 112,
   "metadata": {
    "collapsed": false
   },
   "outputs": [
    {
     "data": {
      "text/plain": [
       "1244"
      ]
     },
     "execution_count": 112,
     "metadata": {},
     "output_type": "execute_result"
    }
   ],
   "source": [
    "word2id['今天']"
   ]
  },
  {
   "cell_type": "code",
   "execution_count": 113,
   "metadata": {
    "collapsed": true
   },
   "outputs": [],
   "source": [
    "id2word = {\n",
    "    d: w for w, d in word2id.items()\n",
    "}"
   ]
  },
  {
   "cell_type": "code",
   "execution_count": 114,
   "metadata": {
    "collapsed": false
   },
   "outputs": [
    {
     "data": {
      "text/plain": [
       "'正在'"
      ]
     },
     "execution_count": 114,
     "metadata": {},
     "output_type": "execute_result"
    }
   ],
   "source": [
    "id2word[6195]"
   ]
  },
  {
   "cell_type": "code",
   "execution_count": 117,
   "metadata": {
    "collapsed": false
   },
   "outputs": [
    {
     "data": {
      "text/plain": [
       "(7931, 2797)"
      ]
     },
     "execution_count": 117,
     "metadata": {},
     "output_type": "execute_result"
    }
   ],
   "source": [
    "word2id['美军'], word2id['司令']"
   ]
  },
  {
   "cell_type": "code",
   "execution_count": 118,
   "metadata": {
    "collapsed": true
   },
   "outputs": [],
   "source": [
    "usa_force = set(np.where(transposed_x[7931])[0])"
   ]
  },
  {
   "cell_type": "code",
   "execution_count": 121,
   "metadata": {
    "collapsed": true
   },
   "outputs": [],
   "source": [
    "commander = set(np.where(transposed_x[2797])[0])"
   ]
  },
  {
   "cell_type": "code",
   "execution_count": 122,
   "metadata": {
    "collapsed": false
   },
   "outputs": [
    {
     "data": {
      "text/plain": [
       "{836,\n",
       " 1218,\n",
       " 1613,\n",
       " 1935,\n",
       " 2844,\n",
       " 3160,\n",
       " 3283,\n",
       " 3309,\n",
       " 3959,\n",
       " 3984,\n",
       " 4244,\n",
       " 4908,\n",
       " 5216,\n",
       " 5236,\n",
       " 6824,\n",
       " 7748,\n",
       " 12832,\n",
       " 18893,\n",
       " 21484,\n",
       " 21523,\n",
       " 22987,\n",
       " 28259,\n",
       " 28414,\n",
       " 28495,\n",
       " 28514,\n",
       " 28523,\n",
       " 28539,\n",
       " 29037,\n",
       " 29633,\n",
       " 29668,\n",
       " 36678,\n",
       " 39638,\n",
       " 39657,\n",
       " 40001,\n",
       " 40025,\n",
       " 41096,\n",
       " 43204,\n",
       " 43702,\n",
       " 44024,\n",
       " 46315,\n",
       " 46828}"
      ]
     },
     "execution_count": 122,
     "metadata": {},
     "output_type": "execute_result"
    }
   ],
   "source": [
    "usa_force & commander  # 找到了包含‘美军’和‘司令’的所有文章"
   ]
  },
  {
   "cell_type": "code",
   "execution_count": 128,
   "metadata": {
    "collapsed": false
   },
   "outputs": [
    {
     "data": {
      "text/plain": [
       "'原 标题 美军 开始 少谈 南海 航行 自由行动 英媒 采取 更 柔和 姿态 _ 参考消息 官方网站 参考消息 网 6 月 19 日 报道 英媒称 美国 太平洋 舰队 司令 证实 特朗普 上任 后 尽管 美国 继续 出动 军舰 进行 所谓 航行 自由行动 但 美国 军方 对 这 一 战略 说 得 更 少据 英国 金融时报 网站 6 月 19 日 报道 美国 海军 一名 高级 军官 表示 在 特朗普 政府 主政 下 美国 在 南海 挑战 中国 海上 主权 声索 的 行动 保持 不变 但是 尽管 美国 继续 出动 军舰 进行 航行 自由行动 美国 军方 对 这 一 战略 说 得 更少 美国 太平洋 舰队 司令 斯科特 斯威夫特 海军上将 在 访华 期间 发表 讲话 时 证实 了 少谈 美国 挑战 中国 海上 主张 的 政策 我 认为 这是 非常 积极 的 一步 当前 政策 是 我们 不 谈论 在 南海 进行 的 航行 自由行动 他 在 斯特雷 特号 驱逐舰 上 接受 采访 时 表示 该舰 上周 访问 了 中国 南海舰队 总部 所在地 湛江 军港 报道 称 这些 行动 通常 涉及 一艘 美国军舰 在 有 争议 海域 航行 斯威夫特 拒绝 讨论 美方 在 5 月 24 日 发起 的 一次 挑战 的 细节 当时 美国 杜威 号 驱逐舰 在 美济礁 12 海里 范围 内 航行 引发 北京 方面 的 抗议 华盛顿 智库 国际 战略 研究 中心 中国 问题 专家 葛莱仪 表示 美国 是 在 奥巴马 政府 主政 期间 开始 宣传 这 类 行动 的 部分 是 为了 让 地区 盟友 安心 她 表示 在 特朗普 政府 领导 下 有关 方面 决定 不 讨论 航行 自由行动 美国 海军 一名 发言人 称自 2013 年 以来 美国 每年 平均 针对 中国 的 主权 主张 进行 两次 此类 行动 从 海军 的 视角 看 我 看不出 在 南海 进行 的 这些 行动 应该 被 视为 比 其他 任何 地方 的 行动 更加 举足轻重 斯威夫特 表示 他 补充 说少 说 的 态度 相当于 美国 在 该 地区 采取 更 柔和 的 姿态 他 介绍 说 2017 年 美国 各 军舰 累计 将 在 南中国海 航行 900 天 以上 高于 每年 600 至 700 天 的 长期 平均水平 两届 政府 之间 的 政策 是 一致 的 他 补充 说 斯威夫特 表示 美国 在 南海 政策 的 最终目标 是 通过 存在 来 展示 力量 美海军 斯特雷 特号 驱逐舰 在 湛江 访问 三天 这 是 自 2016 年 8 月 以来 美国军舰 首次 访问 中国 似乎 表明 美 中 之间 的 军事 合作 没有 受到 政治 紧张 的 影响 资料 图片 南沙 美济礁 礁盘 附近 的 深海 养殖 基地 新华社 记者 赵颖 全摄'"
      ]
     },
     "execution_count": 128,
     "metadata": {},
     "output_type": "execute_result"
    }
   ],
   "source": [
    "news_content[1935]"
   ]
  },
  {
   "cell_type": "code",
   "execution_count": 129,
   "metadata": {
    "collapsed": true
   },
   "outputs": [],
   "source": [
    "from functools import reduce"
   ]
  },
  {
   "cell_type": "code",
   "execution_count": 132,
   "metadata": {
    "collapsed": true
   },
   "outputs": [],
   "source": [
    "# and_: return the bitwise and of a and b."
   ]
  },
  {
   "cell_type": "code",
   "execution_count": 134,
   "metadata": {
    "collapsed": true
   },
   "outputs": [],
   "source": [
    "from operator import and_"
   ]
  },
  {
   "cell_type": "markdown",
   "metadata": {},
   "source": [
    "[TF-IDF与CountVectorizer参数详解](https://www.jianshu.com/p/882e56790ab6)"
   ]
  },
  {
   "cell_type": "code",
   "execution_count": 140,
   "metadata": {
    "collapsed": true
   },
   "outputs": [],
   "source": [
    "def search_engine(query):\n",
    "    words = query.split()\n",
    "    query_vec = vectorized.transform([' '.join(words)]).toarray()[0]  # 获取query对应的ti-idf向量\n",
    "    candidate_ids = [word2id[word] for word in words]\n",
    "    document_ids = [\n",
    "        set(np.where(transposed_x[id_])[0]) for id_ in candidate_ids  # 获取每一个关键词对应的tf-idf值不为0的文档id\n",
    "    ]\n",
    "    merged_documents = reduce(and_, document_ids)  # 文档去重\n",
    "    sorted_document_ids = sorted(merged_documents, key=lambda id_: distance(X[id_].toarray(), query_vec))  # 根据余弦相似度排序\n",
    "    return sorted_document_ids"
   ]
  },
  {
   "cell_type": "code",
   "execution_count": 145,
   "metadata": {
    "collapsed": false
   },
   "outputs": [
    {
     "data": {
      "text/plain": [
       "(array([2276, 6165, 7953], dtype=int64),)"
      ]
     },
     "execution_count": 145,
     "metadata": {},
     "output_type": "execute_result"
    }
   ],
   "source": [
    "np.where(vectorized.transform(['美联储 加息 次数']).toarray()[0])"
   ]
  },
  {
   "cell_type": "code",
   "execution_count": 146,
   "metadata": {
    "collapsed": true
   },
   "outputs": [],
   "source": [
    "text = \"\"\"\n",
    "新华社洛杉矶４月８日电（记者黄恒）美国第三舰队８日发布声明说，该舰队下属的“卡尔·文森”航母战斗群当天离开新加坡，改变原定驶往澳大利亚的任务计划，转而北上，前往西太平洋朝鲜半岛附近水域展开行动。\\n　　该舰队网站主页发布的消息说，美军太平洋司令部司令哈里·哈里斯指示“卡尔·文森”航母战斗群向北航行。这一战斗群包括“卡尔·文森”号航空母舰、海军第二航空队、两艘“阿利·伯克”级导弹驱逐舰和一艘“泰孔德罗加”级导弹巡洋舰。\\n　　“卡尔·文森”号航母的母港位于美国加利福尼亚州的圣迭戈，今年１月初前往西太平洋地区执行任务，并参与了日本及韩国的军事演习。\\n　　美国有线电视新闻网援引美国军方官员的话说，“‘卡尔·文森’号此次行动是为了对近期朝鲜的挑衅行为作出回应”。（完）\n",
    "\"\"\""
   ]
  },
  {
   "cell_type": "code",
   "execution_count": 147,
   "metadata": {
    "collapsed": false
   },
   "outputs": [
    {
     "name": "stdout",
     "output_type": "stream",
     "text": [
      "\n",
      "新华社洛杉矶４月８日电（记者黄恒）美国第三舰队８日发布声明说，该舰队下属的“卡尔·文森”航母战斗群当天离开新加坡，改变原定驶往澳大利亚的任务计划，转而北上，前往西太平洋朝鲜半岛附近水域展开行动。\n",
      "　　该舰队网站主页发布的消息说，美军太平洋司令部司令哈里·哈里斯指示“卡尔·文森”航母战斗群向北航行。这一战斗群包括“卡尔·文森”号航空母舰、海军第二航空队、两艘“阿利·伯克”级导弹驱逐舰和一艘“泰孔德罗加”级导弹巡洋舰。\n",
      "　　“卡尔·文森”号航母的母港位于美国加利福尼亚州的圣迭戈，今年１月初前往西太平洋地区执行任务，并参与了日本及韩国的军事演习。\n",
      "　　美国有线电视新闻网援引美国军方官员的话说，“‘卡尔·文森’号此次行动是为了对近期朝鲜的挑衅行为作出回应”。（完）\n",
      "\n"
     ]
    }
   ],
   "source": [
    "print(text)"
   ]
  },
  {
   "cell_type": "code",
   "execution_count": 148,
   "metadata": {
    "collapsed": true
   },
   "outputs": [],
   "source": [
    "import re"
   ]
  },
  {
   "cell_type": "code",
   "execution_count": 149,
   "metadata": {
    "collapsed": true
   },
   "outputs": [],
   "source": [
    "pat = r'(新闻|官员)'"
   ]
  },
  {
   "cell_type": "code",
   "execution_count": 150,
   "metadata": {
    "collapsed": true
   },
   "outputs": [],
   "source": [
    "text = '美国有线电视新闻网援引美国军方官员的话说'"
   ]
  },
  {
   "cell_type": "code",
   "execution_count": 157,
   "metadata": {
    "collapsed": false
   },
   "outputs": [
    {
     "data": {
      "text/plain": [
       "'美国有线电视**新闻**网援引美国军方**官员**的话说'"
      ]
     },
     "execution_count": 157,
     "metadata": {},
     "output_type": "execute_result"
    }
   ],
   "source": [
    "re.compile(pat).sub(repl='**\\g<1>**', string=text)  # 在新闻或官员前后加**，这样在jupyter notebook中可以加黑加粗打印"
   ]
  },
  {
   "cell_type": "code",
   "execution_count": 154,
   "metadata": {
    "collapsed": true
   },
   "outputs": [],
   "source": [
    "def get_query_pat(query):\n",
    "    return re.compile(r'({})'.format('|'.join(query.split())))"
   ]
  },
  {
   "cell_type": "code",
   "execution_count": 156,
   "metadata": {
    "collapsed": false
   },
   "outputs": [
    {
     "data": {
      "text/plain": [
       "re.compile(r'(美军|司令|航母)', re.UNICODE)"
      ]
     },
     "execution_count": 156,
     "metadata": {},
     "output_type": "execute_result"
    }
   ],
   "source": [
    "get_query_pat('美军 司令 航母')  # 获得正则表达式"
   ]
  },
  {
   "cell_type": "code",
   "execution_count": 167,
   "metadata": {
    "collapsed": true
   },
   "outputs": [],
   "source": [
    "def highlight_keywords(pat, document):\n",
    "    return pat.sub(repl='**\\g<1>**', string=document)"
   ]
  },
  {
   "cell_type": "code",
   "execution_count": 168,
   "metadata": {
    "collapsed": false
   },
   "outputs": [
    {
     "data": {
      "text/plain": [
       "'\\u3000\\u3000新华社北京４月１０日电新闻分析：“卡尔·文森”号**航母**缘何成西太平洋军情新主角\\\\n\\u3000\\u3000新华社记者刘莉莉\\\\n\\u3000\\u3000美国海军第三舰队下属的“卡尔·文森”号**航母**打击群即将抵达西太平洋朝鲜半岛附近水域。分析人士认为，美方此次急调**航母**打击群北上，向朝鲜施压意图明显，很可能会加剧朝鲜半岛紧张局势。\\\\n\\u3000\\u3000（小标题）侧重对地攻击\\\\n\\u3000\\u3000据第三舰队网站主页发布的消息，**美军**太平洋**司令**部**司令**哈里·哈里斯指示“卡尔·文森”号**航母**打击群从新加坡向北航行。这一打击群还包括海军第二航空队、两艘“阿利·伯克”级导弹驱逐舰和一艘“泰孔德罗加”级导弹巡洋舰。\\\\n\\u3000\\u3000“卡尔·文森”号是“尼米兹”级核动力**航母**，母港位于美国加利福尼亚州的圣迭戈，今年１月初，“卡尔·文森”号曾前往西太平洋地区执行任务，并参与美日韩三国军事演习。“尼米兹”级**航母**是核动力多用途**航母**，也是美国海军远洋作战群的核心力量。\\\\n\\u3000\\u3000“卡尔·文森”**航母**打击群中，“阿利·伯克”级导弹驱逐舰和“泰孔德罗加”级导弹巡洋舰也不可小视。“阿利·伯克”级导弹驱逐舰是世界上最先配备四面相控阵雷达的驱逐舰，舰队防空是其主要作战任务。“泰孔德罗加”级导弹巡洋舰的武器配备也比较全面，涵盖了反潜、反舰、防空和对地４个种类。\\\\n\\u3000\\u3000据军事专业人士介绍，**航母**打击群与**航母**战斗群其实是两个概念，战斗群侧重于夺取制海权，例如海战；而**航母**打击群更侧重于对地攻击作战。一般而言，打击群的舰艇数量要远少于战斗群。\\\\n\\u3000\\u3000（小标题）配角跻身主角\\\\n\\u3000\\u3000第三舰队是美国海军太平洋舰队两大舰队之一，拥有４个**航母**打击群，分别是以“卡尔·文森”号为核心的第一**航母**打击群、以“约翰·斯坦尼斯”号为核心的第三**航母**打击群、以“西奥多·罗斯福”号为核心的第九**航母**打击群和以“尼米兹”号为核心的第十一**航母**打击群。\\u3000\\\\n\\u3000\\u3000资深军事评论员石宏说，在美国海军力量中，第三舰队原本地位一般，因为其所管辖的国际日期变更线以东的东太平洋比较安稳，所以更多扮演战略预备队的配角角色。只有在负责执行前沿部署和应急反应任务的第七舰队有需要时，第三舰队才会奉令前去换班或增援。但自２０１５年下半年以来，太平洋舰队打破了延续数十年的惯例，大幅提升第三舰队的活跃度，令其开始更多涉足西太平洋地区。\\\\n\\u3000\\u3000“实际上，这是**美军**根据新的‘全球一体化’军事战略而做的调整，目的是优化资源、改变本土与前沿的兵力平衡，缓解目前美国海军兵力不足与战线过长、资源下滑与保持战备之间的尖锐矛盾，”石宏说。\\\\n\\u3000\\u3000正因如此，“卡尔·文森”号**航母**开始忙碌起来。自从今年１月离开母港后，“卡尔·文森”号边走边练，特别是在夏威夷和关岛水域与当地驻扎部队进行了多轮演训。２月１８日，“卡尔·文森”号**航母**进入南海水域进行所谓“巡航”；３月１５日，“卡尔·文森”号抵达韩国釜山，随后在２０日参加了美韩“关键决断”联合军演。４月４日，“卡尔·文森”号抵达新加坡，原本计划南下前往澳大利亚，但随后接到再度北上命令，赶往朝鲜半岛附近海域。\\\\n\\u3000\\u3000（小标题）或在火上浇油\\\\n\\u3000\\u3000一名不愿公开姓名的五角大楼官员告诉美国有线电视新闻网，“卡尔·文森”号**航母**打击群驶向西太平洋的朝鲜半岛水域，“旨在对近期朝鲜的挑衅行为作出回应”。\\\\n\\u3000\\u3000包括“卡尔·文森”号在内的美国海军新近动向引起各方关注。不少人担心，这一行动将给半岛紧张局势火上浇油。俄罗斯议会上院防务和安全委员会主席维克托·奥泽罗夫警告说，美国动作可能会刺激朝鲜方面作出急躁反应。\\\\n\\u3000\\u3000石宏认为，美国急调“卡尔·文森”号**航母**打击群赶赴半岛附近水域，是想通过军事施压，迫使朝鲜放弃进行新一轮核试验的打算。但从以往经验看，美国用不断加码的军事威慑不仅不会让半岛局势降温，反而会刺激朝鲜越发强硬。（完）\\u3000'"
      ]
     },
     "execution_count": 168,
     "metadata": {},
     "output_type": "execute_result"
    }
   ],
   "source": [
    "highlight_keywords(get_query_pat('美军 司令 航母'), content['content'][22987])"
   ]
  },
  {
   "cell_type": "code",
   "execution_count": 169,
   "metadata": {
    "collapsed": true
   },
   "outputs": [],
   "source": [
    "from IPython.display import display, Markdown"
   ]
  },
  {
   "cell_type": "code",
   "execution_count": 177,
   "metadata": {
    "collapsed": true
   },
   "outputs": [],
   "source": [
    "def search_engine_with_prettry_print(query):\n",
    "    candidate_ids = search_engine(query)\n",
    "    pat = get_query_pat(query)\n",
    "    \n",
    "    for i, id_ in enumerate(candidate_ids):\n",
    "        title = '### Search Result {} ###'.format(i+1)  # 美观输出\n",
    "        c = content['content'][id_]\n",
    "        c = highlight_keywords(pat, c)\n",
    "        \n",
    "        display(Markdown(title + '\\n' + c))"
   ]
  },
  {
   "cell_type": "code",
   "execution_count": 178,
   "metadata": {
    "collapsed": false
   },
   "outputs": [
    {
     "data": {
      "text/markdown": [
       "### Search Result 1 ###\n",
       "最近，不少人在朋友圈等个人社交媒体上吐槽打车难。人们发现，不仅在早晚高峰，甚至是传统的非高峰时段，都出现了路上扬招成功率越来越低，打车软件不加价或是加价少难以吸引司机接单的情况。而类似的情况，在上海、北京、武汉等地都或多或少地存在。\r\n",
       "对此，一些城市迅游车的驾驶员们表示，历年**春节**前，都会遇到活多车少的情况。对司机而言，能加价赚到钱，何乐而不为呢？\r\n",
       "21日晚8点，滴滴高级产品总监罗文在知乎上发文回应称，根据后台数据显示：今年司机回家早，运力下降。在其晒出有关“滴滴在线司机数据”和“北京订单需求”的两张手绘图表中，虽然隐去了具体数值，但可以明显看出，前一张图表近期呈现了直线下降趋势，标注数据显示下降超过25%。而出行订单数量则同期上涨了3成。\r\n",
       "不过，在线司机变少的情况，仅仅是因为临近**假期**，专车司机纷纷提早回家过年造成的吗？\r\n",
       "相关数据显示，自去年国庆之后，地方版网约车新政陆续出台后，市场上的网约车供给量就呈现出大幅减少的趋势。以上海为例，网约车新政之后，上海合规的网约车数量只有1万辆左右，市场供给大幅减少，打车难开始悄然回潮。\r\n",
       "与此同时，网约车市场过度集中，部分平台一家独大。也让消费者瞬间，难以从补贴优惠的温情脉脉中回过神来，瞬间跌入了加价才能叫到车的冰冷现实中。\r\n",
       "一位Uber中国早期员工指出，滴滴打车软件，自动设置了加价选项，即便第一次加价没被接单，还可以再次加价叫车。司机知道用户可以多次选择加价，就有意不接那些不加价的单子。他知道你叫不到车就会提高小费，就故意等着。于是，这个潜规则的结果，就是乘客反复加价才能叫到车，既浪费了时间，也付了更多的钱。\r\n",
       "对于近日有消费者称打车难、打车贵的问题，23日下午，滴滴出行官方微博发布《致广大用户的一封信》表示，将从即日起，在全国范围内阶段性取消出租车“建议调度费”功能，以减少因为春运期间本身供不应求和价格因素带来的体验问题。\r\n",
       "滴滴方面表示，此举将有可能给部分乘客带来呼叫等待时间的增加，以及打车成功率降低的影响。不过，为了鼓励在**春节**期间坚持出车的司机师傅，仍会保留用户主动给予调度费的功能，**春节**过后会根据用户的反馈再做决策。并强调，所有调度费滴滴分文不取。\r\n"
      ],
      "text/plain": [
       "<IPython.core.display.Markdown object>"
      ]
     },
     "metadata": {},
     "output_type": "display_data"
    },
    {
     "data": {
      "text/markdown": [
       "### Search Result 2 ###\n",
       "\\n新华社上海4月4日新媒体专电题：中国人愿意为旅游投入更多时间和金钱\\n新华社记者陈爱平、许晓青\\n28岁的上海白领林夏今年清明节没有留在家乡，而是提前请了年假，赴印度洋上的岛国斯里兰卡自助游。\\n“一个人全部花费，不超过1万元人民币，约等于一个月的工资，完全可以负担得起。”她说。\\n对于不少中国人来说，旅游已经成为一种“生活必需品”。\\n\\n　　图为在上海市徐汇区的一家旅行社门店，一位市民询问欧洲游情况.（新华社记者陈爱平摄）\\n\\n除了扫墓祭祖、踏青赏花，中国的清明节**假期**也成为出游旺季。国内游、出境游人数都不可小觑。\\n前不久，记者来到上海市黄浦区出入境办证中心大厅。工作人员说，今年以来，前来办理出入境证件的居民络绎不绝。尤其是祖孙三代一起来办理证件的全家出行者增多。除了**春节**七天长假，还有清明、“五一”、端午等三天左右的小长假，这些**假期**到来前的一个月，“突击”办理出入境证件的居民往往会扎堆。\\n中国《2016年国民经济和社会发展统计公报》显示，2016年，全国国内游客44亿人次，比上年增长11.2%；国内居民出境13513万人次，增长5.7%。\\n旅游消费旺盛的趋势在2017年开年后仍然延续：根据中国国家旅游局数据中心综合测算，2017年**春节**期间，全国共接待游客3.44亿人次，同比增长13.8%，实现旅游总收入4233亿元，同比增长15.9%。\\n\\n　　斯里兰卡的”狮子岩“景区.（由林夏提供）\\n\\n远在北欧的瑞典，当地的旅游主管部门也感受到了中国人越来越高涨的出游热情。\\n统计显示，2017年1月，中国游客在瑞典全国的“间夜量”（衡量酒店在一定时间内出租率的计算单位）同比增长74.2%。同期，瑞典首都斯德哥尔摩“总间夜量”增长超过10%，其中中国游客增长幅度最为显著，高达82%。\\n瑞典旅游局中国区首席代表李春梅表示，瑞典冬季旅游市场在中国发展迅速，得益于中国游客对于新鲜目的地和独特旅游体验的旺盛需求。\\n在线旅行社携程旅行网近日发布的《2017中国旅游者意愿调查报告》研判，中国人愿意为旅游投入更多的时间和金钱。\\n报告称：2017年，98%的受访者有出游意愿。其中计划出行频次1－3次的受访者占比72%，计划出行4－6次的受访者占比19%。\\n作为一种“必需品”，旅游正成为中国人消费的重要支出。同是携程这份根据2.5亿会员进行的随机抽样调查及大数据分析报告显示，57%的受访者预计全年旅游花费占年收入的10%以上；19%的受访者甚至愿意将20%的年收入用于旅游。从具体金额来看，73%的受访者表示，全年旅游人均花费将超过1万元。\\n\\n　　超过5成受访者预计全年旅游花费占年收入的１０％以上。（由携程旅行网提供）\\n\\n林夏在接受采访时也证实，自己花费在旅游上的年均消费，大约为2万元。\\n专家分析，随着中国居民收入提升，在旅游方面的支出提升成为居民消费升级的例证。“多花一点钱，可以多体验一点旅行的幸福感”，这成为大部分游客的一项共识。\\n也正是基于上述原因，多家在线旅行社大数据显示，越来越多的中国居民愿意选择更舒适的酒店、体验美食和享受服务；旅游产品亦更加多样化：定制游、自由行等选择空间更大，亲子游、中老年游等满足社会多层次需求的旅游产品在2017年将持续火爆。\\n从出行时间看，携程报告显示，随着带薪休假制度的落实以及中国居民出行观念的改变，利用年假、周末出游的受访者分别占比52.7%及19%。\\n清明节**假期**，仅4月2日当天，上海顾村公园就刷新了接待游客纪录，迎来18.29万人。驴妈妈旅游网分析，今年国内赏樱游人次预计同比增长近7成。\\n驴妈妈旅游网介绍，“赏花”亦是近期出境旅游的热词之一：清明节前后，赴日赏樱游预订人次较去年同期增加了近3成。\\n\\n　　无锡十八湾风景区赏花游人络绎不绝。（由驴妈妈旅游网提供）\\n\\n上海财经大学旅游管理系主任何建民分析，旅游成为中国居民的“必需品”，亦成为中国国民经济的“必需品”，见证着中国正在推进的供给侧改革。\\n中国国家旅游局数据显示，全国旅游直接投资在2016年达到12997亿元，同比增长29.05%。而据联合国世界旅游组织测算，2016年中国旅游业对国民经济综合贡献率达11%、对社会就业综合贡献超过10.26%。\\n此前中国发布的《“十三五”旅游业发展规划》提出，“十三五”时期旅游业对国民经济的综合贡献度达到12%，对餐饮、住宿、民航、铁路客运业的综合贡献率达到85%以上，年均新增旅游就业人数100万人以上。\\n今年3月初公布的《“十三五”全国旅游公共服务规划》，重点部署了未来旅游公共服务发展的16项重点工程。专家认为，这将为中国居民出游提供更好保障。\\n“我计划每年至少到境外旅游一次，这样在下一次更换护照的时候，又会收集到更多各国特色的出入境签证及印章。加上国内游短途游，今后还会花更多钱和时间，去享受旅行。”林夏说。\\n"
      ],
      "text/plain": [
       "<IPython.core.display.Markdown object>"
      ]
     },
     "metadata": {},
     "output_type": "display_data"
    },
    {
     "data": {
      "text/markdown": [
       "### Search Result 3 ###\n",
       "　　新华社北京3月31日电（记者魏梦佳、钟雅）记者31日从北京市公园管理中心获悉，今年清明假日期间，北京市属11家公园及中国园林博物馆将举办25项假日游园活动。其中，各大公园内总面积近1000公顷的主题赏花景区，将掀起市民游客游园赏花热潮。\\n　　目前北京各大公园内一片春意盎然，各类春花正热闹绽放。北京市公园管理中心表示，今年春季，市属11家公园的春花观赏面积达到了园内绿地面积的70%。除了常年定植的四季花木，各园还采用了花期调控、精品盆栽、室内花展等多种技术手段和展示方式，使今春花卉布置总面积增加近10%。\\n　　今年清明**假期**，各园近千公顷的赏花景区将成为市民游客度假的首选。玉渊潭公园的樱花节、陶然亭公园的海棠春花节、中山公园的郁金香展、北京植物园的桃花节等**春节**赏花活动都已展开，各色春花依山傍水，争相吐艳，本周末还将迎来新一轮盛花期。其中，陶然亭公园栽植和展出的海棠达45个品种、3000多株。\\n　　除赏花外，清明诗会、民俗展示、文化展演、主题纪念等多种展示清明文化的活动也将在陶然亭公园、玉渊潭公园、中国园林博物馆等上演。香山公园双清别墅、中山公园孙中山像等13处北京公园爱国主义教育基地也将迎来大批前来缅怀祭扫的游客市民。清明期间，各公园内的祭扫纪念景区将市民及团体提供讲解、举行纪念仪式、牌示导览等服务。（完）\\n"
      ],
      "text/plain": [
       "<IPython.core.display.Markdown object>"
      ]
     },
     "metadata": {},
     "output_type": "display_data"
    },
    {
     "data": {
      "text/markdown": [
       "### Search Result 4 ###\n",
       "即将进入7月，对于城市学生而言，美好的暑假又如期而至了，而对于另一群人——留守儿童而言，迎接他们的却是一个“冷清”的**假期**。离开了学校，没有了老师和同学的陪伴，也没有父母的守护，他们的**假期**是孤单而乏味的。\r\n",
       "记者从清远相关部门获悉，清远农村留守儿童约2.39万名，数量在全省排名第四。留守儿童长期缺乏亲情关爱和有效保护，处境堪忧。为做好农村留守儿童关爱保护工作，促进农村留守儿童健康成长。近年来，清远不断完善制度方案为留守儿童撑起“保护伞”。\r\n",
       "就在今年4月份，清远市政府常务会议审议了《清远市关于加强农村留守儿童关爱保护工作的实施方案》（稿）），提出建立考核机制，强化激励问责。对成效明显的，按照国家有关规定予以激励。对工作不力、措施不实、造成不良影响的，按规定追究相关人员的党纪政纪责任；造成严重后果的将对有关领导进行问责。\r\n",
       "清远市心理学会会长张万英认为，不能让“留守儿童”成为“缺爱儿童”。不能经常和孩子在一起生活的父母，要争取多与孩子保持常态联系；不要让“留守儿童”成为“无助儿童”，政府要完善社区中留守儿童服务的功能，关注学生成长中遇到的生理、心理问题。\r\n",
       "●采写/整理：魏金锋\r\n",
       "“半年难见爹和娘”的无奈\r\n",
       "每年七八月间，都是清远最热的时段。而往日喧闹的校园，一到这时便进入**假期**，一片沉寂。\r\n",
       "“留守儿童真凄凉，半年难见爹和娘，放学回家忙家务，夜里梦中唤爹娘。”是农村留守儿童的真实写照。在粤北山区的清远市农村，“半年难见爹和娘”的儿童实在是太普遍了。为了给家人更好的生活环境，许多青壮年选择了背井离乡。他们像候鸟一样，每年**春节**刚过，便飞向沿海各个城市打工，直到下一个**春节**的到来，半年甚至几年不回家，也是常有的事。\r\n",
       "对于很多父母在外务工的农村留守儿童而言，无论是留在家里，还是到父母身边团聚，怎样度过长达两个月的暑假，都是个难题。\r\n",
       "一位经常在清远参加各种公益活动的志愿者刘小姐说，很多次当他们乘坐的车子进入到村头时，就像突然注入了活力一般，孩子们三三两两飞奔过来，小村瞬间变得生动起来。“孩子们好奇地围着大巴转，因为他们盼望父母会从车上走下来，可惜不是。”\r\n",
       "目前，清远农村留守儿童数量在全省排名第四。留守儿童因为家庭环境的特殊性，在性格方面容易出现孤僻、偏激、冲动、攻击性比较强等缺陷；而亲情的缺乏和监管的缺失，让他们更容易受到外界因素的伤害。\r\n",
       "笔者走访了解到，喜的是，由于父母不在身边，不少留守儿童在艰难的环境中早早学会了生存的技能，变得顽强独立；忧的是，个别留守儿童因为缺乏大人监管，安全隐患重重。\r\n",
       "留守儿童也牵动着政府的心。近年来，清远各地通过政府购买服务等形式，探索和创新解决留守儿童问题的方式和途径，取得一定成效，但依旧任重道远。还需不断健全关爱留守儿童的法律和政策体系，强化父母法定监护责任等途径，缓解留守儿童问题。\r\n",
       "亲情缺失监管缺乏的隐患\r\n",
       "由于外出打工的父母长年累月难得有机会回一趟家，留守儿童缺乏父母的监护和保护，往往容易遭受伤害，比如溺水、烧伤、车祸甚至是性侵等等。\r\n",
       "“其实我们也知道父母长期不在家对孩子的身心健康和学习会带来负面影响，但这是痛苦无奈的选择。”家住清远阳山的何先生夫妇感慨良多。他家有一双儿女，由于家里田地少，经济窘困，在小女儿断奶后，就把孩子留给年迈的父母抚养，夫妇俩到了佛山打工，一干就是9年多，每半年夫妻俩才轮流回家一两天。\r\n",
       "9年过去了，夫妻俩好不容易挣了一些钱，去年回家盖起了新楼，并添置了一批家用电器。可谁知由于他俩长年不在家，两个孩子对父母的感情似乎都很生疏，大儿子经常逃学，小小年纪学会了抽烟饮酒，让这何先生夫妇非常伤心。\r\n",
       "业内人士指出，留守儿童之所以容易出问题，主要还是思想道德教育得不到足够的重视。由于学校师资力量及父母不在身边教育的原因，留守儿童思想道德教育被严重忽视。\r\n",
       "隔代监护人大多忙于务农，无暇教育儿童。而且，隔代监护人由于自身素质限制，教育水平不高、手段不当，不少留守儿童隔代监护人采取暴力手段“教育”儿童，错误的教育方式导致错误的教育成果。\r\n",
       "此外，由于农村师资力量水平的限制，留守儿童在音乐、美术、舞蹈等艺术类学习上机会非常少甚至是基本空白。乡村小学对体育课、心理健康教育课的师资投入极少，留守儿童长期得不到心理生理健康教育上的辅导，导致容易出现沉迷网络、电视及抽烟喝酒等不良习惯。\r\n",
       "让留守儿童的暑假不再孤单\r\n",
       "张万英认为，留守儿童因为家庭环境的特殊性，在性格方面容易出现孤僻、偏激、冲动、攻击性比较强等缺陷；人格上容易出现精神问题，如抑郁症、焦虑、恐惧、人际交往障碍等；在学习方面容易出现学习落后、缺乏动力等；跟家庭关系也会相对紧张，容易跟家里人产生冲突，难以和谐相处。\r\n",
       "农村留守儿童问题需要家庭、学校和社会的共同努力。一是加快新农村建设和小城镇建设，吸引外出农民工返乡就业创业，使留守儿童能够与父母团聚；二是学校要加强对留守儿童的关爱和照顾，可通过及时家访，定时为孩子做心理疏导等方式，多方位关爱留守儿童的身心健康；三是政府要健全关爱留守儿童的法律和政策体系，完善监护制度和国家救助体系，强化父母法定监护责任。\r\n",
       "张万英认为，不要让“留守儿童”成为“缺爱儿童”。不能经常和孩子在一起生活的父母，要争取多与孩子保持常态联系，经常打电话关心孩子，了解他们的心理需要，给予更多的心理关爱，如发现自己孩子出现异常行为，要及时和孩子沟通，避免孩子走上极端的道路。\r\n",
       "业内人士指出，相对于父母在身边的孩子不同，留守儿童的暑假一般只有三个选择，而这三个选择都潜伏着很大的安全隐患。\r\n",
       "一是乘车前往父母所在地，与父母一起度过**假期**，旅途比较危险，尤其是独自前往；二是在家帮助爷爷奶奶干活，小小年纪很容易出现安全事故；三是自由安排，这是最危险的，没有大人看护，孩子极有可能出事。\r\n",
       "该业内人士建议，要给孩子制定好科学作息时间，有大人在家的应该严厉监督，别让孩子养成坏习惯。在制定作息时间时，父母们应该以少量平均的安排学习任务，避免孩子荒废学业。有大人家督可以很好地防止孩子到处乱跑，引发安全事故。“因为暑假不像平时在学校，孩子有同学朋友相伴，长时间的呆在家里，孩子很容易孤单，这需要父母的关怀来开解，不然很容易让孩子的叛逆情绪增长起来，甚至让孩子逐渐自闭。”\r\n",
       "此外，不妨借用智能设备掌握孩子行踪，避免孩子靠近危险地带或出入禁止未成年人进入的场所，把影响孩子成长的一切不安因素拒之千里。\r\n",
       "■聚焦\r\n",
       "超6个月不履行职责或撤销监护资格\r\n",
       "《清远市关于加强农村留守儿童关爱保护工作的实施方案》指出，建立农村留守儿童摸底排查机制。按照属地管理、分级负责的原则，建立县、镇、村（居）委会关爱农村留守儿童三级工作服务网络。\r\n",
       "建立农村留守儿童发现报告机制，民政部门要会同财政、教育、卫计、公安、住建、团委等部门和单位建立社会参与面广、覆盖面大、渠道顺畅和相应快速的留守儿童报告网络，制定留守儿童信息报告激励办法，鼓励社会各界积极参与留守儿童关爱保护工作。\r\n",
       "对实施家庭暴力、虐待或遗弃农村家庭留守儿童的父母或受委托监护人，公安机关应当给予批评教育，必要时给予治安管理处罚，情节恶劣构成犯罪的，依法立案侦查。\r\n",
       "对于监护人将农村留守儿童置于无人监管和照看状态导致其面临危险且经教育不改的，或者拒不履行监护职责6个月以上导致农村留守儿童生活无着的，或者实施家庭暴力、虐待或遗弃农村留守儿童导致其身心健康严重受损的，其近亲属、村（居）委会、县民政部门等有关人员或单位要依法向人民法院申请撤销监护人资格，另行指定监护人。\r\n",
       "方案指出，父母要依法履行对未成年子女的监护职责和抚养义务。外出务工人员要尽量携带未成年子女共同生活或父母一方留家照料，暂不具备条件的应当委托有监护能力的亲属或其他成年人代为监护，不得让未满16周岁的儿童脱离监护单独居住生活。外出务工时，父母要向当地村（居）委会报告外出务工及留守儿童、委托监护人的情况。\r\n",
       "父母或其他监护人不依法履行监护职责，村（居）委会、公安机关和有关部门要及时上门予以劝诫、制止；情节严重或造成严重后果的，公安机关等要依法追究其责任，强化家庭监护主体责任。\r\n",
       "加大教育部门和学校关爱保护力度。各县级政府要完善控辍保学部门协调机制，督促监护人送适龄儿童、少年入学并完成义务教育。教育部门要负责落实免费义务教育和教育资助政策，确保农村留守儿童不因贫困而失学；改善留守儿童教育条件，加强留守儿童教育基础设施建设，优化农村义务教育学校布局。\r\n",
       "■关注\r\n",
       "如何防止留守儿童溺亡悲剧？\r\n",
       "清远是依山傍水的城市，每到夏季，游泳是不少人的至爱。尤其在学生放**假期**间，江河边戏水似乎成了一种不可或缺的乐趣，可惜几乎每年都有学生溺水身亡的事故发生。\r\n",
       "留守儿童的安全一直是个大问题，在上学时有学校的约束还好，可是一旦放假后，父母又不在身边，家里老人又看不住孩子，孩子的身边就像埋藏了无数颗炸弹。而且儿童自救能力较差。不少去玩水的儿童都不会游泳，但在同伴邀约下，冒险下水嬉戏，溺水后，由于同伴大多年纪小、能力有限，一旦遇险，惊慌失措，难以互救，极易发生群体溺亡事故。\r\n",
       "笔者从清远市教育部门获悉，近年来，清远全市因溺水事故死亡学生每年都有10人左右，占所有非正常死亡学生数的大约一半。\r\n",
       "为此，今年5月份召开的清远全市防溺水视频工作会议强调，各地各部门要把预防学生溺水工作纳入当前重要议事日程，抓好辖区内中小学、幼儿园安全管理，加强安全宣传教育；强化周边水域排查，加强隐患整改。对因制度不健全、管理不到位、责任不落实，导致安全责任事故的，将按照有关规定严肃追究相关人员的责任。\r\n",
       "学校还要会同村委会、社区居委会，做好校园及其周边溺水安全隐患的排查，一方面要在校内水池、河道、沟渠等易发生溺水的地方设置警示标志，加强防护设施；另一方面要通过教师、学生家长或社区居委会、村委会摸清学校周边各类江河、池塘、溪流等水域的安全隐患，在校内提前对学生进行安全警示。\r\n",
       "据悉，清远市政府将组织相关人员成立督查组，对各地及相关部门的防溺水工作落实情况进行督查。对发生安全事故的，要按照“四不放过”原则，加强责任追究，对因制度不健全、管理不到位、责任不落实，导致安全责任事故的，要按照有关规定严肃追究相关人员的责任。\r\n"
      ],
      "text/plain": [
       "<IPython.core.display.Markdown object>"
      ]
     },
     "metadata": {},
     "output_type": "display_data"
    },
    {
     "data": {
      "text/markdown": [
       "### Search Result 5 ###\n",
       "中国新闻：\\n\\n*公鉴：关于“新华全媒”新闻服务平台上线的公告\\n\\n*(脱贫攻坚)(6)云南禄劝：苗寨村民易地搬迁过上新生活\\n\\n*新华社摄影部今日重要稿件预告\\n\\n*(图片故事)(10)“挠挠”所长履职记\\n\\n*(新华视点·图片版)(2)港珠澳大桥岛隧工程海底隧道的最终接头对接完成\\n\\n*(法治)(8)中意警方在沪联合巡逻\\n\\n*(时代先锋·图文互动)(5)仰望最亮“星”勿忘造星人——记航天科技集团五院“通信卫星创新团队”\\n\\n*(文化)(8)“民族翰骨”潘天寿诞辰120周年纪念大展在京开幕\\n\\n*(文化)(2)校园里的朗读者\\n\\n*(图文互动)(5)台籍青年教师黄志伟：“我在武汉找到了舞台”——新华旺中“台胞在大陆”联合采访报道之二\\n\\n*(一带一路)(5)一带一路好日子——元旦\\n\\n*(一带一路)(5)一带一路好日子——**春节**\\n\\n*(一带一路)(5)一带一路好日子——泼水节\\n\\n*(一带一路)(4)一带一路好日子——洒红节\\n\\n*(一带一路)(4)一带一路好日子——诺鲁孜节\\n\\n*(社会)(2)铁路青年工地约会觅良缘\\n\\n*(经济)河北宣化发展现代农业助农增收\\n\\n*(经济)(2)河北宣化：打造高端装备制造产业集群\\n\\n*(服务)(3)西安：高速公路收费站开通手机支付业务\\n\\n*(文化)(3)《东京审判——为了世界和平》一书国内首发\\n\\n*(社会)(2)校园倡清风\\n\\n*(社会)(3)重温入团誓词传承“五四”精神\\n\\n*(体育)(2)排球——朱婷回乡与媒体、球迷互动\\n\\n*(社会)(4)扎根农村干事业村官摸索致富路\\n\\n*(体育)(1)自行车——第五届环巴松措国际山地自行车赛落幕\\n\\n*(社会)(4)高铁微客服受旅客欢迎\\n\\n*(时政)张高丽会见阿联酋外交与国际合作部长阿卜杜拉\\n\\n*(新华全媒头条·图文互动)(10)港珠澳大桥全线贯通在即粤港澳大湾区加速起航\\n\\n*(社会)(2)辽宁海警开展清查整治“三无”船舶专项行动\\n\\n*(环境)乌鲁木齐遭遇短时雨雪冰雹天气\\n\\n*(社会)(5)港珠澳大桥工程上的“大国重器”\\n\\n*(体育)(2)足球——足协杯：杭州绿城胜辽宁开新\\n\\n*#(经济)(3)三峡船闸累计货运量突破10亿吨\\n\\n*#(社会)(3)内蒙古大兴安岭北部火场外线合围　明火被扑灭\\n\\n*#(环境)(3)湖北宣恩：“鸽子花”悄然开放\\n\\n*#(社会)(4)山西永济：鹳雀楼前旗袍秀\\n\\n*#(图片故事)(7)苗乡“90后草根乐队”寻梦记\\n\\n\\n国际新闻：\\n\\n*(XHDW)(2)奥地利外长访问利比亚\\n\\n*(国际)(5)德国一快速列车在多特蒙德中央火车站发生出轨事故\\n\\n*(国际)(5)“非洲火人节”收官\\n\\n*(新华视界)(10)在纽约寄兴园体验中国园林之美\\n\\n*(国际)(10)在纽约寄兴园体验中国园林之美\\n\\n*(XHDW)重庆芭蕾舞团参加阿尔及利亚国际现代舞艺术节\\n\\n*(国际)(10)美国各地民众举行劳动节游行\\n\\n*(国际)(3)圣彼得堡举行“五一”劳动节游行\\n\\n*(国际)哈马斯发布新政策文件接受划界建国\\n\\n*(一带一路·好项目)(7)蒙内铁路——肯尼亚的铁路“中国造”\\n\\n*(XHDW)(3)第48届休斯敦国际海洋油气技术大会及设备展开幕\\n\\n*(国际·图文互动)专访：中国的发展将对欧洲未来发展产生重大影响——访匈牙利外交与对外经济部长西亚尔托\\n\\n*(国际·图文互动)(3)走进挪威峡湾深处的“书镇”\\n\\n*(国际)中国海军远航访问编队结束访问离开菲律宾\\n\\n*(XHDW)(5)昂山素季访问欧盟\\n\\n*(国际)(6)科学家丁肇中的日常生活\\n\\n*(国际)(9)韩国举行最后一次总统候选人电视辩论\\n\\n*(国际)(4)以色列庆祝独立日\\n\\n*(新华视界)(5)以色列庆祝独立日\\n\\n*(一带一路·好项目)(11)中国企业承建特拉维夫轻轨项目\\n\\n*(国际)(5)德国一快速列车在多特蒙德中央火车站发生出轨事故\\n\\n*(国际)(5)“非洲火人节”收官\\n\\n*(国际)(10)在纽约寄兴园体验中国园林之美\\n\\n*(国际)(10)美国各地民众举行劳动节游行\\n\\n*(国际)(3)圣彼得堡举行“五一”劳动节游行\\n\\n*(国际)哈马斯发布新政策文件接受划界建国\\n\\n*(一带一路·好项目)(7)蒙内铁路——肯尼亚的铁路“中国造”\\n\\n*(国际·图文互动)专访：中国的发展将对欧洲未来发展产生重大影响——访匈牙利外交与对外经济部长西亚尔托\\n\\n*新华社摄影部2017年05月02日白班发稿目录(国际对内)\\n\\n*(国际·图文互动)(3)走进挪威峡湾深处的“书镇”\\n\\n*(国际)中国海军远航访问编队结束访问离开菲律宾\\n\\n*(国际)(6)科学家丁肇中的日常生活\\n\\n*(国际)(9)韩国举行最后一次总统候选人电视辩论\\n\\n*(国际)(4)以色列庆祝独立日\\n\\n*(一带一路·好项目)(11)中国企业承建特拉维夫轻轨项目\\n\\n\\n体育专线：\\n\\n一、发专线稿件：\\n*(体育)(8)斯诺克——塞尔比夺得世锦赛冠军\\n*(体育)(6)足球——英超联赛：利物浦客场告捷\\n*(体育)(6)篮球——NBA季后赛：火箭胜马刺\\n*(体育)(7)篮球——NBA季后赛：骑士胜猛龙\\n*(体育)(5)排球——朱婷回乡与媒体、球迷互动\\n*(体育)(2)自行车——第五届环巴松措国际山地自行车赛落幕\\n*(体育)(5)足球——在葡萄牙托里什人队训练的中国小球员\\n*(体育)(8)足球——足协杯：呼和浩特小草胜长春亚泰\\n*(体育)(5)足球——足协杯：杭州绿城胜辽宁开新\\n*(体育)(7)足球——足协杯：山东鲁能胜吉林百嘉\\n\\n二、发对外稿件：\\n*(XHDW)(体育)(10)篮球——香港甲一男子篮球联赛赛况\\n\\n\\n图表专线：\\n\\n*公鉴：关于“新华全媒”新闻服务平台上线的公告\\n\\n*（图表）[财经·股市]纽约股市涨跌互现\\n\\n*（图表）[财经·金价]纽约金价1日大幅下跌\\n\\n*（图表）[财经·油价]纽约油价1日下跌\\n\\n*（图表）[突发事件]哥伦比亚一军用飞机坠毁\\n\\n*（图表）[科技]科普：冥想有助集中精力\\n\\n*新华社摄影部2017年05月02日白天发稿目录(图表专线)\\n\\n*（图表）[关注五一]“五一”**假期**全国铁路发送旅客近4900万人次\\n\\n*（图表·漫画）[财经·聚焦]“美化”\\n\\n*（图表·漫画）[财经·聚焦]突击增长\\n\\n*（图表·漫画）[科技]成功破译\\n\\n*（图表）[科技]月掩恒星“轩辕十四”罕见天象5月4日上演\\n\\n*（图表）[经济]美财长说美国经济有望实现3％增长目标\\n\\n*（图表·漫画）[新华视点]签约\\n\\n*（图表·漫画）[解读经济开局季·民生工程]“精神敬老”\\n\\n*（图表）[受权发布]国务院关于修改《大中型水利水电工程建设征地补偿和移民安置条例》的决定\\n\\n*（图表·漫画）[解读经济开局季·民生工程]精神孤独\\n\\n*（图表）[财经·动态]深圳新房均价出现“七连跌”4月成交量环比大涨146%\\n\\n*（图表）[经济]财政部：物流企业大宗商品仓储用地土地使用税享50%优惠\\n\\n\\n外代图片一线：\\n\\n*(外代一线)(9)德国一快速列车在多特蒙德中央火车站发生出轨事故\\n\\n*(外代一线)(10)美国得州一大学校园发生持刀扎人事件\\n\\n*(外代一线)(5)阿联酋与德国讨论地区安全形势\\n\\n*(外代一线)(12)马杜罗宣布将启动制宪大会重新制定宪法\\n\\n*(外代一线)(2)奥地利外长表示将继续支持利比亚民族团结政府\\n\\n*(外代一线)(6)哈马斯发布新政策文件接受划界建国\\n\\n*(外代一线)(7)加拿大多伦多金融区传出爆炸声\\n\\n*新华社摄影部2017年05月02日白班发稿目录(外代图片一线)\\n\\n*(外代一线)(9)摩苏尔战事\\n\\n*(外代一线)(18)特朗普说愿在“合适情况”下与金正恩会面\\n\\n*(外代一线)(2)“朴槿惠案”首次预审在首尔举行　辩方律师否认全部指控\\n\\n*(外代一线)(5)昂山素季访问欧盟\\n\\n*(外代一线)(4)韩国举行最后一次总统候选人电视辩论\\n\\n*(外代一线)(13)以色列庆祝独立日\\n\\n\\n外代图片二线：\\n\\n*(外代二线)印度传统婚嫁日\\n\\n*[1](外代二线)“城市里的农民”\\n\\n*[2](外代二线)“城市里的农民”\\n\\n*[3](外代二线)“城市里的农民”\\n\\n*[4](外代二线)“城市里的农民”\\n\\n*[5](外代二线)“城市里的农民”\\n\\n*[6](外代二线)“城市里的农民”\\n\\n*[7](外代二线)“城市里的农民”\\n\\n*[8](外代二线)“城市里的农民”\\n\\n*[9](外代二线)“城市里的农民”\\n\\n*[6](外代二线)戈马舞蹈节\\n\\n*[1](外代二线)彩色烟雾\\n\\n*[2](外代二线)彩色烟雾\\n\\n*[3](外代二线)彩色烟雾\\n\\n*[4](外代二线)彩色烟雾\\n\\n*[5](外代二线)彩色烟雾\\n\\n*[6](外代二线)彩色烟雾\\n\\n*[7](外代二线)彩色烟雾\\n\\n*[6](外代二线)墨西哥航空航天展闭幕表演\\n\\n*[7](外代二线)墨西哥航空航天展闭幕表演\\n\\n*[8](外代二线)墨西哥航空航天展闭幕表演\\n\\n*[1](外代二线)墨西哥航空航天展闭幕表演\\n\\n*[2](外代二线)墨西哥航空航天展闭幕表演\\n\\n*[3](外代二线)墨西哥航空航天展闭幕表演\\n\\n*[4](外代二线)墨西哥航空航天展闭幕表演\\n\\n*[5](外代二线)墨西哥航空航天展闭幕表演\\n\\n*[10](外代二线)戈马舞蹈节\\n\\n*[3](外代二线)福塔莱萨海滨风光\\n\\n*[4](外代二线)福塔莱萨海滨风光\\n\\n*[1](外代二线)福塔莱萨海滨风光\\n\\n*[2](外代二线)福塔莱萨海滨风光\\n\\n*[1](外代二线)俄罗斯摩托车节表演\\n\\n*[2](外代二线)俄罗斯摩托车节表演\\n\\n*[3](外代二线)俄罗斯摩托车节表演\\n\\n*[4](外代二线)俄罗斯摩托车节表演\\n\\n*[5](外代二线)俄罗斯摩托车节表演\\n\\n*[6](外代二线)俄罗斯摩托车节表演\\n\\n*[7](外代二线)俄罗斯摩托车节表演\\n\\n*[1](外代二线)波兰举行第24届蒸汽机车游行\\n\\n*[2](外代二线)波兰举行第24届蒸汽机车游行\\n\\n*[3](外代二线)波兰举行第24届蒸汽机车游行\\n\\n*[4](外代二线)波兰举行第24届蒸汽机车游行\\n\\n*[5](外代二线)波兰举行第24届蒸汽机车游行\\n\\n*[6](外代二线)波兰举行第24届蒸汽机车游行\\n\\n*[7](外代二线)波兰举行第24届蒸汽机车游行\\n\\n*[8](外代二线)波兰举行第24届蒸汽机车游行\\n\\n*[9](外代二线)波兰举行第24届蒸汽机车游行\\n\\n*[10](外代二线)波兰举行第24届蒸汽机车游行\\n\\n*[11](外代二线)波兰举行第24届蒸汽机车游行\\n\\n*[12](外代二线)波兰举行第24届蒸汽机车游行\\n\\n*[13](外代二线)波兰举行第24届蒸汽机车游行\\n\\n*[14](外代二线)波兰举行第24届蒸汽机车游行\\n\\n*[15](外代二线)波兰举行第24届蒸汽机车游行\\n\\n*[16](外代二线)波兰举行第24届蒸汽机车游行\\n\\n*[17](外代二线)波兰举行第24届蒸汽机车游行\\n\\n*[18](外代二线)波兰举行第24届蒸汽机车游行\\n\\n*[19](外代二线)波兰举行第24届蒸汽机车游行\\n\\n*[20](外代二线)波兰举行第24届蒸汽机车游行\\n\\n*[21](外代二线)波兰举行第24届蒸汽机车游行\\n\\n*[22](外代二线)波兰举行第24届蒸汽机车游行\\n\\n*公鉴：关于“新华全媒”新闻服务平台上线的公告\\n\\n*[2](外代二线)多彩花环\\n\\n*[3](外代二线)多彩花环\\n\\n*[4](外代二线)多彩花环\\n\\n\\n\\n新华社摄影部"
      ],
      "text/plain": [
       "<IPython.core.display.Markdown object>"
      ]
     },
     "metadata": {},
     "output_type": "display_data"
    }
   ],
   "source": [
    "search_engine_with_prettry_print('春节 假期')"
   ]
  },
  {
   "cell_type": "markdown",
   "metadata": {},
   "source": [
    "**<font color=skyblue size=5>继续加油</font>**"
   ]
  }
 ],
 "metadata": {
  "anaconda-cloud": {},
  "kernelspec": {
   "display_name": "Python [conda root]",
   "language": "python",
   "name": "conda-root-py"
  },
  "language_info": {
   "codemirror_mode": {
    "name": "ipython",
    "version": 3
   },
   "file_extension": ".py",
   "mimetype": "text/x-python",
   "name": "python",
   "nbconvert_exporter": "python",
   "pygments_lexer": "ipython3",
   "version": "3.5.2"
  },
  "toc": {
   "base_numbering": 1,
   "nav_menu": {},
   "number_sections": true,
   "sideBar": true,
   "skip_h1_title": false,
   "title_cell": "Table of Contents",
   "title_sidebar": "Contents",
   "toc_cell": false,
   "toc_position": {},
   "toc_section_display": true,
   "toc_window_display": false
  }
 },
 "nbformat": 4,
 "nbformat_minor": 1
}
